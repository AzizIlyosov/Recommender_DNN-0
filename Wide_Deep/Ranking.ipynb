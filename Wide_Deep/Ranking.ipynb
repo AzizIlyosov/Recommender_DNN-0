{
 "cells": [
  {
   "cell_type": "code",
   "execution_count": 1,
   "metadata": {},
   "outputs": [
    {
     "name": "stderr",
     "output_type": "stream",
     "text": [
      "C:\\ProgramData\\Anaconda3\\lib\\site-packages\\h5py\\__init__.py:34: FutureWarning: Conversion of the second argument of issubdtype from `float` to `np.floating` is deprecated. In future, it will be treated as `np.float64 == np.dtype(float).type`.\n",
      "  from ._conv import register_converters as _register_converters\n",
      "Using TensorFlow backend.\n"
     ]
    }
   ],
   "source": [
    "import numpy as np\n",
    "import pandas as pd\n",
    "import os\n",
    "import argparse\n",
    "from sklearn import preprocessing\n",
    "from sklearn.preprocessing import OneHotEncoder, MinMaxScaler, StandardScaler\n",
    "from sklearn.model_selection import train_test_split\n",
    "import time\n",
    "\n",
    "from keras.models import Sequential\n",
    "from keras.layers import Dense\n",
    "from keras.optimizers import Adam\n",
    "from keras.layers import Input, concatenate, Embedding, Reshape\n",
    "from keras.layers import Merge, Flatten, merge, Lambda, Dropout\n",
    "from keras.layers.normalization import BatchNormalization\n",
    "from keras.models import Model\n",
    "from keras.models import model_from_json\n",
    "from keras.models import load_model\n",
    "from keras.regularizers import l2, l1_l2\n",
    "import tensorflow as tf\n",
    "import gc"
   ]
  },
  {
   "cell_type": "code",
   "execution_count": 2,
   "metadata": {
    "collapsed": true
   },
   "outputs": [],
   "source": [
    "myfolder = 'F:/rs/Recommender_DNN/input/'\n",
    "\n",
    "df = pd.read_csv(myfolder + 'data_subset.csv')\n",
    "y = df['reordered'].values\n",
    "del df['reordered']"
   ]
  },
  {
   "cell_type": "code",
   "execution_count": 7,
   "metadata": {
    "collapsed": true
   },
   "outputs": [],
   "source": [
    "ids = df[['product_id','order_id']]\n",
    "del df['order_id']"
   ]
  },
  {
   "cell_type": "code",
   "execution_count": 8,
   "metadata": {
    "collapsed": true
   },
   "outputs": [],
   "source": [
    "CATEGORICAL_COLUMNS = [\"order_dow\", \"order_hour_of_day\"]\n",
    "CONTINUOUS_COLUMNS = [ \"user_orders\", \"days_since_prior_order\",\"up_orders\",\"up_first_order\",\"up_last_order\",\"up_average_cart_position\",\"prod_orders\",\"user_period\",\"prod_reorder_ratio\",\"prod_reorder_probability\",\"user_distinct_products\",\"user_mean_days_since_prior\",\"user_total_products\", \"user_average_basket\",\"up_order_rate\",\"up_orders_since_last_order\"]\n",
    "EMBEDDING_COLUMNS = [\"user_id\", \"product_id\",\"aisle_id\",\"department_id\"]"
   ]
  },
  {
   "cell_type": "code",
   "execution_count": 9,
   "metadata": {},
   "outputs": [
    {
     "data": {
      "text/plain": [
       "393"
      ]
     },
     "execution_count": 9,
     "metadata": {},
     "output_type": "execute_result"
    }
   ],
   "source": [
    "#One-hot encoding categorical columns\n",
    "df = pd.get_dummies(df, columns=[x for x in CATEGORICAL_COLUMNS])\n",
    "gc.collect()"
   ]
  },
  {
   "cell_type": "code",
   "execution_count": 10,
   "metadata": {},
   "outputs": [
    {
     "data": {
      "text/plain": [
       "0"
      ]
     },
     "execution_count": 10,
     "metadata": {},
     "output_type": "execute_result"
    }
   ],
   "source": [
    "#Normalising the feature columns\n",
    "df = pd.DataFrame(MinMaxScaler().fit_transform(df), columns=df.columns)\n",
    "gc.collect()"
   ]
  },
  {
   "cell_type": "code",
   "execution_count": 11,
   "metadata": {
    "collapsed": true
   },
   "outputs": [],
   "source": [
    "#Helper to index columns before embeddings\n",
    "def val2idx(df, cols):\n",
    "    val_types = dict()\n",
    "    for c in cols:\n",
    "        val_types[c] = df[c].unique()\n",
    "\n",
    "    val_to_idx = dict()\n",
    "    for k, v in val_types.items():\n",
    "        val_to_idx[k] = {o: i for i, o in enumerate(val_types[k])}\n",
    "\n",
    "    for k, v in val_to_idx.items():\n",
    "        df[k] = df[k].apply(lambda x: v[x])\n",
    "\n",
    "    unique_vals = dict()\n",
    "    for c in cols:\n",
    "        unique_vals[c] = df[c].nunique()\n",
    "\n",
    "    return df, unique_vals\n",
    "#Using Keras layer to create Embeddings\n",
    "def embedding_input(name, n_in, n_out, reg):\n",
    "    inp = Input(shape=(1,), dtype='int64', name=name)\n",
    "    return inp, Embedding(n_in, n_out, input_length=1, embeddings_regularizer=l2(reg))(inp)\n",
    "#Input layers for continuous vectors to the deep network\n",
    "def continous_input(name):\n",
    "    inp = Input(shape=(1,), dtype='float32', name=name)\n",
    "    return inp, Reshape((1, 1))(inp)"
   ]
  },
  {
   "cell_type": "code",
   "execution_count": 14,
   "metadata": {
    "collapsed": true
   },
   "outputs": [],
   "source": [
    "#Splitting datasets into train and test\n",
    "df.reset_index()\n",
    "gc.collect()\n",
    "X = df.values\n",
    "X_train, X_test, y_train, y_test = train_test_split(X, y, test_size=0.25, random_state=42)"
   ]
  },
  {
   "cell_type": "code",
   "execution_count": 15,
   "metadata": {
    "collapsed": true
   },
   "outputs": [],
   "source": [
    "#Defining input column for the deep network\n",
    "DEEP_COLNS = EMBEDDING_COLUMNS + CONTINUOUS_COLUMNS\n",
    "df_deep, unique_vals = val2idx(df, EMBEDDING_COLUMNS)\n",
    "X_deep_tr, X_deep_te, y_deep_tr, y_deep_te = train_test_split(df_deep, y, test_size=0.25, random_state=42)\n",
    "#Creating input dataframe for the merged model\n",
    "X_train_deep = [X_deep_tr[c] for c in DEEP_COLNS]\n",
    "y_train_deep = np.array(y_deep_tr).reshape(-1, 1)\n",
    "X_test_deep = [X_deep_te[c] for c in DEEP_COLNS]\n",
    "y_test_deep = np.array(y_deep_te).reshape(-1, 1)\n",
    "gc.collect()\n",
    "#Inputs\n",
    "X_tr_wd = [X_train] + X_train_deep\n",
    "Y_tr_wd = y_train_deep  # wide or deep is the same here\n",
    "X_te_wd = [X_test] + X_test_deep\n",
    "Y_te_wd = y_test_deep  # wide or deep is the same here"
   ]
  },
  {
   "cell_type": "code",
   "execution_count": 16,
   "metadata": {},
   "outputs": [
    {
     "name": "stderr",
     "output_type": "stream",
     "text": [
      "C:\\ProgramData\\Anaconda3\\lib\\site-packages\\keras\\engine\\topology.py:1269: UserWarning: The `Merge` layer is deprecated and will be removed after 08/2017. Use instead layers from `keras.layers.merge`, e.g. `add`, `concatenate`, etc.\n",
      "  return cls(**config)\n"
     ]
    },
    {
     "name": "stdout",
     "output_type": "stream",
     "text": [
      "Loaded model from disk\n"
     ]
    }
   ],
   "source": [
    "#Loading pre-trained models\n",
    "\n",
    "# load json and create model\n",
    "json_file = open('wide.json', 'r')\n",
    "wide_json = json_file.read()\n",
    "json_file.close()\n",
    "wide = model_from_json(wide_json)\n",
    "# load weights into new model\n",
    "wide.load_weights(\"wide.h5\")\n",
    "json_file = open('deep.json', 'r')\n",
    "deep_json = json_file.read()\n",
    "json_file.close()\n",
    "deep = model_from_json(deep_json)\n",
    "# load weights into new model\n",
    "deep.load_weights(\"deep.h5\")\n",
    "json_file = open('wide_deep.json', 'r')\n",
    "loaded_model_json = json_file.read()\n",
    "json_file.close()\n",
    "wide_deep = model_from_json(loaded_model_json)\n",
    "# load weights into new model\n",
    "wide_deep.load_weights(\"wide_deep.h5\")\n",
    "print(\"Loaded model from disk\")"
   ]
  },
  {
   "cell_type": "code",
   "execution_count": 17,
   "metadata": {
    "collapsed": true
   },
   "outputs": [],
   "source": [
    "wide.compile(Adam(0.1), loss='binary_crossentropy', metrics=['accuracy'])\n",
    "deep.compile(Adam(0.1), loss='binary_crossentropy', metrics=['accuracy'])\n",
    "wide_deep.compile(optimizer=Adam(lr=0.1), loss='binary_crossentropy', metrics=['accuracy'])"
   ]
  },
  {
   "cell_type": "code",
   "execution_count": 12,
   "metadata": {},
   "outputs": [
    {
     "name": "stdout",
     "output_type": "stream",
     "text": [
      "1031154/1031154 [==============================] - 50s 49us/step\n",
      "Wide: [0.41565120182276577, 0.8078725389225269]\n",
      "1031154/1031154 [==============================] - 143s 139us/step\n",
      "\n",
      " Deep: [1.136664420352819, 0.7945893629856638]\n",
      "1031154/1031154 [==============================] - 151s 146us/step\n",
      "\n",
      " Wide and Deep: [1.0013501690341742, 0.8186381471633909]\n"
     ]
    }
   ],
   "source": [
    "results = wide.evaluate(X_test, y_test)\n",
    "print(\"Wide:\",results)\n",
    "results = deep.evaluate(X_test_deep, y_test_deep)\n",
    "print(\"Deep:\",results)\n",
    "results = wide_deep.evaluate(X_te_wd, Y_te_wd)\n",
    "print(\"Wide and Deep:\",results)"
   ]
  },
  {
   "cell_type": "code",
   "execution_count": 18,
   "metadata": {
    "collapsed": true
   },
   "outputs": [],
   "source": [
    "prd = wide_deep.predict(X_te_wd)"
   ]
  },
  {
   "cell_type": "code",
   "execution_count": 15,
   "metadata": {},
   "outputs": [
    {
     "name": "stdout",
     "output_type": "stream",
     "text": [
      "[[0.06621979]\n",
      " [0.11559835]\n",
      " [0.04629791]\n",
      " ...\n",
      " [0.07036499]\n",
      " [0.07070364]\n",
      " [0.03768555]]\n"
     ]
    }
   ],
   "source": [
    "print(prd)"
   ]
  },
  {
   "cell_type": "code",
   "execution_count": 12,
   "metadata": {
    "collapsed": true
   },
   "outputs": [],
   "source": [
    "def combi(z,df):\n",
    "    \n",
    "    prd_bag = dict()\n",
    "    z_bag = dict()\n",
    "    for row in df.itertuples():\n",
    "        if row.reordered > z:   \n",
    "            try:\n",
    "                prd_bag[row.order_id] += ' ' + str(row.product_id)\n",
    "                z_bag[row.order_id]+= ' ' + str(int(100*row.reordered))\n",
    "            except:\n",
    "                prd_bag[row.order_id] = str(row.product_id)\n",
    "                z_bag[row.order_id]= str(int(100*row.reordered))\n",
    "\n",
    "    for order in df.order_id:\n",
    "        if order not in prd_bag:\n",
    "            prd_bag[order] = ' '\n",
    "            z_bag[order] = ' '\n",
    "\n",
    "    return prd_bag,z_bag \n",
    "\n",
    "# F1 function uses the actual products as a list in the train set and the list of predicted products\n",
    "\n",
    "def f1_score_single(x):                 #from LiLi but modified to get 1 for both empty\n",
    "\n",
    "    y_true = x.actual\n",
    "    y_pred = x.list_prod\n",
    "    if y_true == '' and y_pred ==[] : return 1.\n",
    "    y_true = set(y_true)\n",
    "    y_pred = set(y_pred)\n",
    "    cross_size = len(y_true & y_pred)\n",
    "    if cross_size == 0: return 0.\n",
    "    p = 1. * cross_size / len(y_pred)\n",
    "    r = 1. * cross_size / len(y_true)\n",
    "    return 2 * p * r / (p + r)"
   ]
  },
  {
   "cell_type": "code",
   "execution_count": 13,
   "metadata": {},
   "outputs": [
    {
     "data": {
      "text/html": [
       "<div>\n",
       "<style>\n",
       "    .dataframe thead tr:only-child th {\n",
       "        text-align: right;\n",
       "    }\n",
       "\n",
       "    .dataframe thead th {\n",
       "        text-align: left;\n",
       "    }\n",
       "\n",
       "    .dataframe tbody tr th {\n",
       "        vertical-align: top;\n",
       "    }\n",
       "</style>\n",
       "<table border=\"1\" class=\"dataframe\">\n",
       "  <thead>\n",
       "    <tr style=\"text-align: right;\">\n",
       "      <th></th>\n",
       "      <th>user_id</th>\n",
       "      <th>product_id</th>\n",
       "      <th>up_orders</th>\n",
       "      <th>up_first_order</th>\n",
       "      <th>up_last_order</th>\n",
       "      <th>up_average_cart_position</th>\n",
       "      <th>prod_orders</th>\n",
       "      <th>prod_reorder_probability</th>\n",
       "      <th>prod_reorder_ratio</th>\n",
       "      <th>user_orders</th>\n",
       "      <th>...</th>\n",
       "      <th>order_hour_of_day_14</th>\n",
       "      <th>order_hour_of_day_15</th>\n",
       "      <th>order_hour_of_day_16</th>\n",
       "      <th>order_hour_of_day_17</th>\n",
       "      <th>order_hour_of_day_18</th>\n",
       "      <th>order_hour_of_day_19</th>\n",
       "      <th>order_hour_of_day_20</th>\n",
       "      <th>order_hour_of_day_21</th>\n",
       "      <th>order_hour_of_day_22</th>\n",
       "      <th>order_hour_of_day_23</th>\n",
       "    </tr>\n",
       "  </thead>\n",
       "  <tbody>\n",
       "    <tr>\n",
       "      <th>0</th>\n",
       "      <td>0.629796</td>\n",
       "      <td>0.392658</td>\n",
       "      <td>0.244898</td>\n",
       "      <td>0.010204</td>\n",
       "      <td>0.336735</td>\n",
       "      <td>0.068182</td>\n",
       "      <td>0.079767</td>\n",
       "      <td>0.468368</td>\n",
       "      <td>0.751146</td>\n",
       "      <td>0.322917</td>\n",
       "      <td>...</td>\n",
       "      <td>0.0</td>\n",
       "      <td>0.0</td>\n",
       "      <td>0.0</td>\n",
       "      <td>0.0</td>\n",
       "      <td>0.0</td>\n",
       "      <td>0.0</td>\n",
       "      <td>0.0</td>\n",
       "      <td>0.0</td>\n",
       "      <td>0.0</td>\n",
       "      <td>0.0</td>\n",
       "    </tr>\n",
       "    <tr>\n",
       "      <th>1</th>\n",
       "      <td>0.825564</td>\n",
       "      <td>0.640409</td>\n",
       "      <td>0.000000</td>\n",
       "      <td>0.377551</td>\n",
       "      <td>0.377551</td>\n",
       "      <td>0.075758</td>\n",
       "      <td>0.007451</td>\n",
       "      <td>0.290488</td>\n",
       "      <td>0.481042</td>\n",
       "      <td>0.625000</td>\n",
       "      <td>...</td>\n",
       "      <td>0.0</td>\n",
       "      <td>0.0</td>\n",
       "      <td>0.0</td>\n",
       "      <td>0.0</td>\n",
       "      <td>0.0</td>\n",
       "      <td>0.0</td>\n",
       "      <td>0.0</td>\n",
       "      <td>0.0</td>\n",
       "      <td>0.0</td>\n",
       "      <td>0.0</td>\n",
       "    </tr>\n",
       "    <tr>\n",
       "      <th>2</th>\n",
       "      <td>0.117571</td>\n",
       "      <td>0.950108</td>\n",
       "      <td>0.071429</td>\n",
       "      <td>0.000000</td>\n",
       "      <td>0.071429</td>\n",
       "      <td>0.022727</td>\n",
       "      <td>0.264035</td>\n",
       "      <td>0.666348</td>\n",
       "      <td>0.845529</td>\n",
       "      <td>0.052083</td>\n",
       "      <td>...</td>\n",
       "      <td>0.0</td>\n",
       "      <td>0.0</td>\n",
       "      <td>0.0</td>\n",
       "      <td>0.0</td>\n",
       "      <td>0.0</td>\n",
       "      <td>0.0</td>\n",
       "      <td>0.0</td>\n",
       "      <td>0.0</td>\n",
       "      <td>0.0</td>\n",
       "      <td>1.0</td>\n",
       "    </tr>\n",
       "    <tr>\n",
       "      <th>3</th>\n",
       "      <td>0.614176</td>\n",
       "      <td>0.325719</td>\n",
       "      <td>0.061224</td>\n",
       "      <td>0.000000</td>\n",
       "      <td>0.244898</td>\n",
       "      <td>0.037879</td>\n",
       "      <td>0.469271</td>\n",
       "      <td>0.458520</td>\n",
       "      <td>0.651134</td>\n",
       "      <td>0.229167</td>\n",
       "      <td>...</td>\n",
       "      <td>0.0</td>\n",
       "      <td>0.0</td>\n",
       "      <td>0.0</td>\n",
       "      <td>0.0</td>\n",
       "      <td>0.0</td>\n",
       "      <td>1.0</td>\n",
       "      <td>0.0</td>\n",
       "      <td>0.0</td>\n",
       "      <td>0.0</td>\n",
       "      <td>0.0</td>\n",
       "    </tr>\n",
       "    <tr>\n",
       "      <th>4</th>\n",
       "      <td>0.094497</td>\n",
       "      <td>0.000886</td>\n",
       "      <td>0.010204</td>\n",
       "      <td>0.020408</td>\n",
       "      <td>0.030612</td>\n",
       "      <td>0.007576</td>\n",
       "      <td>0.286388</td>\n",
       "      <td>0.485754</td>\n",
       "      <td>0.694830</td>\n",
       "      <td>0.020833</td>\n",
       "      <td>...</td>\n",
       "      <td>1.0</td>\n",
       "      <td>0.0</td>\n",
       "      <td>0.0</td>\n",
       "      <td>0.0</td>\n",
       "      <td>0.0</td>\n",
       "      <td>0.0</td>\n",
       "      <td>0.0</td>\n",
       "      <td>0.0</td>\n",
       "      <td>0.0</td>\n",
       "      <td>0.0</td>\n",
       "    </tr>\n",
       "  </tbody>\n",
       "</table>\n",
       "<p>5 rows × 51 columns</p>\n",
       "</div>"
      ],
      "text/plain": [
       "    user_id  product_id  up_orders  up_first_order  up_last_order  \\\n",
       "0  0.629796    0.392658   0.244898        0.010204       0.336735   \n",
       "1  0.825564    0.640409   0.000000        0.377551       0.377551   \n",
       "2  0.117571    0.950108   0.071429        0.000000       0.071429   \n",
       "3  0.614176    0.325719   0.061224        0.000000       0.244898   \n",
       "4  0.094497    0.000886   0.010204        0.020408       0.030612   \n",
       "\n",
       "   up_average_cart_position  prod_orders  prod_reorder_probability  \\\n",
       "0                  0.068182     0.079767                  0.468368   \n",
       "1                  0.075758     0.007451                  0.290488   \n",
       "2                  0.022727     0.264035                  0.666348   \n",
       "3                  0.037879     0.469271                  0.458520   \n",
       "4                  0.007576     0.286388                  0.485754   \n",
       "\n",
       "   prod_reorder_ratio  user_orders          ...           \\\n",
       "0            0.751146     0.322917          ...            \n",
       "1            0.481042     0.625000          ...            \n",
       "2            0.845529     0.052083          ...            \n",
       "3            0.651134     0.229167          ...            \n",
       "4            0.694830     0.020833          ...            \n",
       "\n",
       "   order_hour_of_day_14  order_hour_of_day_15  order_hour_of_day_16  \\\n",
       "0                   0.0                   0.0                   0.0   \n",
       "1                   0.0                   0.0                   0.0   \n",
       "2                   0.0                   0.0                   0.0   \n",
       "3                   0.0                   0.0                   0.0   \n",
       "4                   1.0                   0.0                   0.0   \n",
       "\n",
       "   order_hour_of_day_17  order_hour_of_day_18  order_hour_of_day_19  \\\n",
       "0                   0.0                   0.0                   0.0   \n",
       "1                   0.0                   0.0                   0.0   \n",
       "2                   0.0                   0.0                   0.0   \n",
       "3                   0.0                   0.0                   1.0   \n",
       "4                   0.0                   0.0                   0.0   \n",
       "\n",
       "   order_hour_of_day_20  order_hour_of_day_21  order_hour_of_day_22  \\\n",
       "0                   0.0                   0.0                   0.0   \n",
       "1                   0.0                   0.0                   0.0   \n",
       "2                   0.0                   0.0                   0.0   \n",
       "3                   0.0                   0.0                   0.0   \n",
       "4                   0.0                   0.0                   0.0   \n",
       "\n",
       "   order_hour_of_day_23  \n",
       "0                   0.0  \n",
       "1                   0.0  \n",
       "2                   1.0  \n",
       "3                   0.0  \n",
       "4                   0.0  \n",
       "\n",
       "[5 rows x 51 columns]"
      ]
     },
     "execution_count": 13,
     "metadata": {},
     "output_type": "execute_result"
    }
   ],
   "source": [
    "df.reset_index()\n",
    "df.head()"
   ]
  },
  {
   "cell_type": "code",
   "execution_count": 6,
   "metadata": {},
   "outputs": [
    {
     "data": {
      "text/html": [
       "<div>\n",
       "<style>\n",
       "    .dataframe thead tr:only-child th {\n",
       "        text-align: right;\n",
       "    }\n",
       "\n",
       "    .dataframe thead th {\n",
       "        text-align: left;\n",
       "    }\n",
       "\n",
       "    .dataframe tbody tr th {\n",
       "        vertical-align: top;\n",
       "    }\n",
       "</style>\n",
       "<table border=\"1\" class=\"dataframe\">\n",
       "  <thead>\n",
       "    <tr style=\"text-align: right;\">\n",
       "      <th></th>\n",
       "      <th>product_id</th>\n",
       "      <th>order_id</th>\n",
       "    </tr>\n",
       "  </thead>\n",
       "  <tbody>\n",
       "    <tr>\n",
       "      <th>0</th>\n",
       "      <td>19511</td>\n",
       "      <td>2308721</td>\n",
       "    </tr>\n",
       "    <tr>\n",
       "      <th>1</th>\n",
       "      <td>31821</td>\n",
       "      <td>2191246</td>\n",
       "    </tr>\n",
       "    <tr>\n",
       "      <th>2</th>\n",
       "      <td>47209</td>\n",
       "      <td>864819</td>\n",
       "    </tr>\n",
       "    <tr>\n",
       "      <th>3</th>\n",
       "      <td>16185</td>\n",
       "      <td>552250</td>\n",
       "    </tr>\n",
       "    <tr>\n",
       "      <th>4</th>\n",
       "      <td>45</td>\n",
       "      <td>3007640</td>\n",
       "    </tr>\n",
       "  </tbody>\n",
       "</table>\n",
       "</div>"
      ],
      "text/plain": [
       "   product_id  order_id\n",
       "0       19511   2308721\n",
       "1       31821   2191246\n",
       "2       47209    864819\n",
       "3       16185    552250\n",
       "4          45   3007640"
      ]
     },
     "execution_count": 6,
     "metadata": {},
     "output_type": "execute_result"
    }
   ],
   "source": [
    "ids.head()"
   ]
  },
  {
   "cell_type": "code",
   "execution_count": 12,
   "metadata": {},
   "outputs": [
    {
     "data": {
      "text/html": [
       "<div>\n",
       "<style>\n",
       "    .dataframe thead tr:only-child th {\n",
       "        text-align: right;\n",
       "    }\n",
       "\n",
       "    .dataframe thead th {\n",
       "        text-align: left;\n",
       "    }\n",
       "\n",
       "    .dataframe tbody tr th {\n",
       "        vertical-align: top;\n",
       "    }\n",
       "</style>\n",
       "<table border=\"1\" class=\"dataframe\">\n",
       "  <thead>\n",
       "    <tr style=\"text-align: right;\">\n",
       "      <th></th>\n",
       "      <th>user_id</th>\n",
       "      <th>product_id</th>\n",
       "      <th>up_orders</th>\n",
       "      <th>up_first_order</th>\n",
       "      <th>up_last_order</th>\n",
       "      <th>up_average_cart_position</th>\n",
       "      <th>prod_orders</th>\n",
       "      <th>prod_reorder_probability</th>\n",
       "      <th>prod_reorder_ratio</th>\n",
       "      <th>user_orders</th>\n",
       "      <th>...</th>\n",
       "      <th>order_hour_of_day_14</th>\n",
       "      <th>order_hour_of_day_15</th>\n",
       "      <th>order_hour_of_day_16</th>\n",
       "      <th>order_hour_of_day_17</th>\n",
       "      <th>order_hour_of_day_18</th>\n",
       "      <th>order_hour_of_day_19</th>\n",
       "      <th>order_hour_of_day_20</th>\n",
       "      <th>order_hour_of_day_21</th>\n",
       "      <th>order_hour_of_day_22</th>\n",
       "      <th>order_hour_of_day_23</th>\n",
       "    </tr>\n",
       "  </thead>\n",
       "  <tbody>\n",
       "    <tr>\n",
       "      <th>0</th>\n",
       "      <td>0.629796</td>\n",
       "      <td>0.392658</td>\n",
       "      <td>0.244898</td>\n",
       "      <td>0.010204</td>\n",
       "      <td>0.336735</td>\n",
       "      <td>0.068182</td>\n",
       "      <td>0.079767</td>\n",
       "      <td>0.468368</td>\n",
       "      <td>0.751146</td>\n",
       "      <td>0.322917</td>\n",
       "      <td>...</td>\n",
       "      <td>0.0</td>\n",
       "      <td>0.0</td>\n",
       "      <td>0.0</td>\n",
       "      <td>0.0</td>\n",
       "      <td>0.0</td>\n",
       "      <td>0.0</td>\n",
       "      <td>0.0</td>\n",
       "      <td>0.0</td>\n",
       "      <td>0.0</td>\n",
       "      <td>0.0</td>\n",
       "    </tr>\n",
       "    <tr>\n",
       "      <th>1</th>\n",
       "      <td>0.825564</td>\n",
       "      <td>0.640409</td>\n",
       "      <td>0.000000</td>\n",
       "      <td>0.377551</td>\n",
       "      <td>0.377551</td>\n",
       "      <td>0.075758</td>\n",
       "      <td>0.007451</td>\n",
       "      <td>0.290488</td>\n",
       "      <td>0.481042</td>\n",
       "      <td>0.625000</td>\n",
       "      <td>...</td>\n",
       "      <td>0.0</td>\n",
       "      <td>0.0</td>\n",
       "      <td>0.0</td>\n",
       "      <td>0.0</td>\n",
       "      <td>0.0</td>\n",
       "      <td>0.0</td>\n",
       "      <td>0.0</td>\n",
       "      <td>0.0</td>\n",
       "      <td>0.0</td>\n",
       "      <td>0.0</td>\n",
       "    </tr>\n",
       "    <tr>\n",
       "      <th>2</th>\n",
       "      <td>0.117571</td>\n",
       "      <td>0.950108</td>\n",
       "      <td>0.071429</td>\n",
       "      <td>0.000000</td>\n",
       "      <td>0.071429</td>\n",
       "      <td>0.022727</td>\n",
       "      <td>0.264035</td>\n",
       "      <td>0.666348</td>\n",
       "      <td>0.845529</td>\n",
       "      <td>0.052083</td>\n",
       "      <td>...</td>\n",
       "      <td>0.0</td>\n",
       "      <td>0.0</td>\n",
       "      <td>0.0</td>\n",
       "      <td>0.0</td>\n",
       "      <td>0.0</td>\n",
       "      <td>0.0</td>\n",
       "      <td>0.0</td>\n",
       "      <td>0.0</td>\n",
       "      <td>0.0</td>\n",
       "      <td>1.0</td>\n",
       "    </tr>\n",
       "    <tr>\n",
       "      <th>3</th>\n",
       "      <td>0.614176</td>\n",
       "      <td>0.325719</td>\n",
       "      <td>0.061224</td>\n",
       "      <td>0.000000</td>\n",
       "      <td>0.244898</td>\n",
       "      <td>0.037879</td>\n",
       "      <td>0.469271</td>\n",
       "      <td>0.458520</td>\n",
       "      <td>0.651134</td>\n",
       "      <td>0.229167</td>\n",
       "      <td>...</td>\n",
       "      <td>0.0</td>\n",
       "      <td>0.0</td>\n",
       "      <td>0.0</td>\n",
       "      <td>0.0</td>\n",
       "      <td>0.0</td>\n",
       "      <td>1.0</td>\n",
       "      <td>0.0</td>\n",
       "      <td>0.0</td>\n",
       "      <td>0.0</td>\n",
       "      <td>0.0</td>\n",
       "    </tr>\n",
       "    <tr>\n",
       "      <th>4</th>\n",
       "      <td>0.094497</td>\n",
       "      <td>0.000886</td>\n",
       "      <td>0.010204</td>\n",
       "      <td>0.020408</td>\n",
       "      <td>0.030612</td>\n",
       "      <td>0.007576</td>\n",
       "      <td>0.286388</td>\n",
       "      <td>0.485754</td>\n",
       "      <td>0.694830</td>\n",
       "      <td>0.020833</td>\n",
       "      <td>...</td>\n",
       "      <td>1.0</td>\n",
       "      <td>0.0</td>\n",
       "      <td>0.0</td>\n",
       "      <td>0.0</td>\n",
       "      <td>0.0</td>\n",
       "      <td>0.0</td>\n",
       "      <td>0.0</td>\n",
       "      <td>0.0</td>\n",
       "      <td>0.0</td>\n",
       "      <td>0.0</td>\n",
       "    </tr>\n",
       "  </tbody>\n",
       "</table>\n",
       "<p>5 rows × 51 columns</p>\n",
       "</div>"
      ],
      "text/plain": [
       "    user_id  product_id  up_orders  up_first_order  up_last_order  \\\n",
       "0  0.629796    0.392658   0.244898        0.010204       0.336735   \n",
       "1  0.825564    0.640409   0.000000        0.377551       0.377551   \n",
       "2  0.117571    0.950108   0.071429        0.000000       0.071429   \n",
       "3  0.614176    0.325719   0.061224        0.000000       0.244898   \n",
       "4  0.094497    0.000886   0.010204        0.020408       0.030612   \n",
       "\n",
       "   up_average_cart_position  prod_orders  prod_reorder_probability  \\\n",
       "0                  0.068182     0.079767                  0.468368   \n",
       "1                  0.075758     0.007451                  0.290488   \n",
       "2                  0.022727     0.264035                  0.666348   \n",
       "3                  0.037879     0.469271                  0.458520   \n",
       "4                  0.007576     0.286388                  0.485754   \n",
       "\n",
       "   prod_reorder_ratio  user_orders          ...           \\\n",
       "0            0.751146     0.322917          ...            \n",
       "1            0.481042     0.625000          ...            \n",
       "2            0.845529     0.052083          ...            \n",
       "3            0.651134     0.229167          ...            \n",
       "4            0.694830     0.020833          ...            \n",
       "\n",
       "   order_hour_of_day_14  order_hour_of_day_15  order_hour_of_day_16  \\\n",
       "0                   0.0                   0.0                   0.0   \n",
       "1                   0.0                   0.0                   0.0   \n",
       "2                   0.0                   0.0                   0.0   \n",
       "3                   0.0                   0.0                   0.0   \n",
       "4                   1.0                   0.0                   0.0   \n",
       "\n",
       "   order_hour_of_day_17  order_hour_of_day_18  order_hour_of_day_19  \\\n",
       "0                   0.0                   0.0                   0.0   \n",
       "1                   0.0                   0.0                   0.0   \n",
       "2                   0.0                   0.0                   0.0   \n",
       "3                   0.0                   0.0                   1.0   \n",
       "4                   0.0                   0.0                   0.0   \n",
       "\n",
       "   order_hour_of_day_20  order_hour_of_day_21  order_hour_of_day_22  \\\n",
       "0                   0.0                   0.0                   0.0   \n",
       "1                   0.0                   0.0                   0.0   \n",
       "2                   0.0                   0.0                   0.0   \n",
       "3                   0.0                   0.0                   0.0   \n",
       "4                   0.0                   0.0                   0.0   \n",
       "\n",
       "   order_hour_of_day_23  \n",
       "0                   0.0  \n",
       "1                   0.0  \n",
       "2                   1.0  \n",
       "3                   0.0  \n",
       "4                   0.0  \n",
       "\n",
       "[5 rows x 51 columns]"
      ]
     },
     "execution_count": 12,
     "metadata": {},
     "output_type": "execute_result"
    }
   ],
   "source": [
    "df.head()"
   ]
  },
  {
   "cell_type": "code",
   "execution_count": 19,
   "metadata": {},
   "outputs": [
    {
     "name": "stdout",
     "output_type": "stream",
     "text": [
      "(4124613, 51) (4124613, 51)\n"
     ]
    }
   ],
   "source": [
    "print(df.shape,df_deep.shape)"
   ]
  },
  {
   "cell_type": "code",
   "execution_count": 20,
   "metadata": {
    "collapsed": true
   },
   "outputs": [],
   "source": [
    "a,b,c,d = train_test_split(ids, y, test_size=0.25, random_state=42)"
   ]
  },
  {
   "cell_type": "code",
   "execution_count": 21,
   "metadata": {},
   "outputs": [
    {
     "data": {
      "text/html": [
       "<div>\n",
       "<style>\n",
       "    .dataframe thead tr:only-child th {\n",
       "        text-align: right;\n",
       "    }\n",
       "\n",
       "    .dataframe thead th {\n",
       "        text-align: left;\n",
       "    }\n",
       "\n",
       "    .dataframe tbody tr th {\n",
       "        vertical-align: top;\n",
       "    }\n",
       "</style>\n",
       "<table border=\"1\" class=\"dataframe\">\n",
       "  <thead>\n",
       "    <tr style=\"text-align: right;\">\n",
       "      <th></th>\n",
       "      <th>product_id</th>\n",
       "      <th>order_id</th>\n",
       "    </tr>\n",
       "  </thead>\n",
       "  <tbody>\n",
       "    <tr>\n",
       "      <th>3754795</th>\n",
       "      <td>5955</td>\n",
       "      <td>328106</td>\n",
       "    </tr>\n",
       "    <tr>\n",
       "      <th>3087927</th>\n",
       "      <td>19691</td>\n",
       "      <td>1270775</td>\n",
       "    </tr>\n",
       "    <tr>\n",
       "      <th>122280</th>\n",
       "      <td>7751</td>\n",
       "      <td>1171383</td>\n",
       "    </tr>\n",
       "    <tr>\n",
       "      <th>2261385</th>\n",
       "      <td>5114</td>\n",
       "      <td>717426</td>\n",
       "    </tr>\n",
       "    <tr>\n",
       "      <th>905639</th>\n",
       "      <td>35168</td>\n",
       "      <td>639184</td>\n",
       "    </tr>\n",
       "  </tbody>\n",
       "</table>\n",
       "</div>"
      ],
      "text/plain": [
       "         product_id  order_id\n",
       "3754795        5955    328106\n",
       "3087927       19691   1270775\n",
       "122280         7751   1171383\n",
       "2261385        5114    717426\n",
       "905639        35168    639184"
      ]
     },
     "execution_count": 21,
     "metadata": {},
     "output_type": "execute_result"
    }
   ],
   "source": [
    "b.head()"
   ]
  },
  {
   "cell_type": "code",
   "execution_count": 22,
   "metadata": {},
   "outputs": [
    {
     "name": "stderr",
     "output_type": "stream",
     "text": [
      "C:\\ProgramData\\Anaconda3\\lib\\site-packages\\ipykernel_launcher.py:2: SettingWithCopyWarning: \n",
      "A value is trying to be set on a copy of a slice from a DataFrame.\n",
      "Try using .loc[row_indexer,col_indexer] = value instead\n",
      "\n",
      "See the caveats in the documentation: http://pandas.pydata.org/pandas-docs/stable/indexing.html#indexing-view-versus-copy\n",
      "  \n"
     ]
    }
   ],
   "source": [
    "test_ranking = b\n",
    "test_ranking['reordered'] = prd"
   ]
  },
  {
   "cell_type": "code",
   "execution_count": 23,
   "metadata": {},
   "outputs": [
    {
     "data": {
      "text/html": [
       "<div>\n",
       "<style>\n",
       "    .dataframe thead tr:only-child th {\n",
       "        text-align: right;\n",
       "    }\n",
       "\n",
       "    .dataframe thead th {\n",
       "        text-align: left;\n",
       "    }\n",
       "\n",
       "    .dataframe tbody tr th {\n",
       "        vertical-align: top;\n",
       "    }\n",
       "</style>\n",
       "<table border=\"1\" class=\"dataframe\">\n",
       "  <thead>\n",
       "    <tr style=\"text-align: right;\">\n",
       "      <th></th>\n",
       "      <th>product_id</th>\n",
       "      <th>order_id</th>\n",
       "      <th>reordered</th>\n",
       "    </tr>\n",
       "  </thead>\n",
       "  <tbody>\n",
       "    <tr>\n",
       "      <th>3754795</th>\n",
       "      <td>5955</td>\n",
       "      <td>328106</td>\n",
       "      <td>0.066220</td>\n",
       "    </tr>\n",
       "    <tr>\n",
       "      <th>3087927</th>\n",
       "      <td>19691</td>\n",
       "      <td>1270775</td>\n",
       "      <td>0.115598</td>\n",
       "    </tr>\n",
       "    <tr>\n",
       "      <th>122280</th>\n",
       "      <td>7751</td>\n",
       "      <td>1171383</td>\n",
       "      <td>0.046298</td>\n",
       "    </tr>\n",
       "    <tr>\n",
       "      <th>2261385</th>\n",
       "      <td>5114</td>\n",
       "      <td>717426</td>\n",
       "      <td>0.197152</td>\n",
       "    </tr>\n",
       "    <tr>\n",
       "      <th>905639</th>\n",
       "      <td>35168</td>\n",
       "      <td>639184</td>\n",
       "      <td>0.005602</td>\n",
       "    </tr>\n",
       "  </tbody>\n",
       "</table>\n",
       "</div>"
      ],
      "text/plain": [
       "         product_id  order_id  reordered\n",
       "3754795        5955    328106   0.066220\n",
       "3087927       19691   1270775   0.115598\n",
       "122280         7751   1171383   0.046298\n",
       "2261385        5114    717426   0.197152\n",
       "905639        35168    639184   0.005602"
      ]
     },
     "execution_count": 23,
     "metadata": {},
     "output_type": "execute_result"
    }
   ],
   "source": [
    "test_ranking.head()"
   ]
  },
  {
   "cell_type": "code",
   "execution_count": 24,
   "metadata": {
    "collapsed": true
   },
   "outputs": [],
   "source": [
    "gc.collect()\n",
    "traintest1 = pd.read_csv(myfolder + 'traintest1.csv')"
   ]
  },
  {
   "cell_type": "code",
   "execution_count": 25,
   "metadata": {},
   "outputs": [
    {
     "data": {
      "text/html": [
       "<div>\n",
       "<style>\n",
       "    .dataframe thead tr:only-child th {\n",
       "        text-align: right;\n",
       "    }\n",
       "\n",
       "    .dataframe thead th {\n",
       "        text-align: left;\n",
       "    }\n",
       "\n",
       "    .dataframe tbody tr th {\n",
       "        vertical-align: top;\n",
       "    }\n",
       "</style>\n",
       "<table border=\"1\" class=\"dataframe\">\n",
       "  <thead>\n",
       "    <tr style=\"text-align: right;\">\n",
       "      <th></th>\n",
       "      <th>order_id</th>\n",
       "      <th>eval_set</th>\n",
       "      <th>actual</th>\n",
       "    </tr>\n",
       "  </thead>\n",
       "  <tbody>\n",
       "    <tr>\n",
       "      <th>0</th>\n",
       "      <td>1187899</td>\n",
       "      <td>1</td>\n",
       "      <td>[196, 25133, 38928, 26405, 39657, 10258, 13032...</td>\n",
       "    </tr>\n",
       "    <tr>\n",
       "      <th>1</th>\n",
       "      <td>1492625</td>\n",
       "      <td>1</td>\n",
       "      <td>[22963, 7963, 16589, 32792, 41787, 22825, 2485...</td>\n",
       "    </tr>\n",
       "    <tr>\n",
       "      <th>2</th>\n",
       "      <td>2196797</td>\n",
       "      <td>1</td>\n",
       "      <td>[15349, 21413, 40706, 21616]</td>\n",
       "    </tr>\n",
       "    <tr>\n",
       "      <th>3</th>\n",
       "      <td>525192</td>\n",
       "      <td>1</td>\n",
       "      <td>[47272, 37999, 13198, 43967, 40852, 17638, 298...</td>\n",
       "    </tr>\n",
       "    <tr>\n",
       "      <th>4</th>\n",
       "      <td>880375</td>\n",
       "      <td>1</td>\n",
       "      <td>[15937, 23165, 21903, 41540]</td>\n",
       "    </tr>\n",
       "  </tbody>\n",
       "</table>\n",
       "</div>"
      ],
      "text/plain": [
       "   order_id  eval_set                                             actual\n",
       "0   1187899         1  [196, 25133, 38928, 26405, 39657, 10258, 13032...\n",
       "1   1492625         1  [22963, 7963, 16589, 32792, 41787, 22825, 2485...\n",
       "2   2196797         1                       [15349, 21413, 40706, 21616]\n",
       "3    525192         1  [47272, 37999, 13198, 43967, 40852, 17638, 298...\n",
       "4    880375         1                       [15937, 23165, 21903, 41540]"
      ]
     },
     "execution_count": 25,
     "metadata": {},
     "output_type": "execute_result"
    }
   ],
   "source": [
    "traintest1.head()"
   ]
  },
  {
   "cell_type": "code",
   "execution_count": null,
   "metadata": {
    "collapsed": true
   },
   "outputs": [],
   "source": []
  }
 ],
 "metadata": {
  "kernelspec": {
   "display_name": "Python 3",
   "language": "python",
   "name": "python3"
  },
  "language_info": {
   "codemirror_mode": {
    "name": "ipython",
    "version": 3
   },
   "file_extension": ".py",
   "mimetype": "text/x-python",
   "name": "python",
   "nbconvert_exporter": "python",
   "pygments_lexer": "ipython3",
   "version": "3.6.3"
  }
 },
 "nbformat": 4,
 "nbformat_minor": 2
}
