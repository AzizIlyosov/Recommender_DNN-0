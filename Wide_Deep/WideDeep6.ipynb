{
 "cells": [
  {
   "cell_type": "code",
   "execution_count": 6,
   "metadata": {},
   "outputs": [
    {
     "name": "stdout",
     "output_type": "stream",
     "text": [
      "Using TensorFlow version 1.5.0\n"
     ]
    }
   ],
   "source": [
    "from __future__ import absolute_import\n",
    "from __future__ import division\n",
    "from __future__ import print_function\n",
    "\n",
    "import time\n",
    "\n",
    "import numpy as np\n",
    "import tensorflow as tf\n",
    "\n",
    "tf.logging.set_verbosity(tf.logging.INFO) \n",
    "# Set to INFO for tracking training, default is WARN \n",
    "\n",
    "print(\"Using TensorFlow version %s\" % (tf.__version__)) \n",
    "# This notebook is intended for tested for TF 1.3\n",
    "\n",
    "CATEGORICAL_COLUMNS = [\"user_id\", \"order_id\", \"product_id\", \"aisle_id\", \"department_id\"]\n",
    "\n",
    "# Columns of the input csv file\n",
    "COLUMNS = [\"user_id\", \"user_orders\", \"order_id\", \"order_number\", \"order_dow\", \"order_hour_of_day\", \n",
    "           \"days_since_prior_order\", \"product_id\", \"add_to_cart_order\", \"reordered\", \"aisle_id\", \"department_id\"]\n",
    "# \"add_to_cart_order\",\n",
    "\n",
    "FEATURE_COLUMNS = [\"user_id\", \"user_orders\", \"order_id\", \"order_number\", \"order_dow\", \"order_hour_of_day\", \n",
    "           \"days_since_prior_order\", \"product_id\", \"add_to_cart_order\", \"aisle_id\", \"department_id\"]\n",
    "\n",
    "# # Feature columns for input into the model\n",
    "# FEATURE_COLUMNS = [\"age\", \"workclass\", \"education\", \n",
    "#                    \"education_num\", \"marital_status\",\n",
    "#                    \"occupation\", \"relationship\", \"race\", \n",
    "#                    \"gender\", \"capital_gain\", \"capital_loss\",\n",
    "#                    \"hours_per_week\", \"native_country\"]"
   ]
  },
  {
   "cell_type": "code",
   "execution_count": 2,
   "metadata": {
    "scrolled": true
   },
   "outputs": [],
   "source": [
    "import pandas as pd\n",
    "\n",
    "# df = pd.read_csv(\"train53w6.csv\", header=None, names=COLUMNS)\n",
    "#                  dtype={\"user_id\":str, \"user_orders\":str, \"order_id\":str, \"order_number\":str,\n",
    "#                  \"order_dow\":str, \"order_hour_of_day\":str,\"days_since_prior_order\":str, \n",
    "#                  \"product_id\":str, \"add_to_cart_order\":str, \"reordered\":str,\n",
    "#                  \"aisle_id\":str, \"department_id\":str})"
   ]
  },
  {
   "cell_type": "code",
   "execution_count": 114,
   "metadata": {},
   "outputs": [
    {
     "data": {
      "text/plain": [
       "(966804, 12)"
      ]
     },
     "execution_count": 114,
     "metadata": {},
     "output_type": "execute_result"
    }
   ],
   "source": [
    "df.shape"
   ]
  },
  {
   "cell_type": "code",
   "execution_count": 113,
   "metadata": {
    "scrolled": false
   },
   "outputs": [
    {
     "data": {
      "text/html": [
       "<div>\n",
       "<style>\n",
       "    .dataframe thead tr:only-child th {\n",
       "        text-align: right;\n",
       "    }\n",
       "\n",
       "    .dataframe thead th {\n",
       "        text-align: left;\n",
       "    }\n",
       "\n",
       "    .dataframe tbody tr th {\n",
       "        vertical-align: top;\n",
       "    }\n",
       "</style>\n",
       "<table border=\"1\" class=\"dataframe\">\n",
       "  <thead>\n",
       "    <tr style=\"text-align: right;\">\n",
       "      <th></th>\n",
       "      <th>user_id</th>\n",
       "      <th>user_orders</th>\n",
       "      <th>order_id</th>\n",
       "      <th>order_number</th>\n",
       "      <th>order_dow</th>\n",
       "      <th>order_hour_of_day</th>\n",
       "      <th>days_since_prior_order</th>\n",
       "      <th>product_id</th>\n",
       "      <th>add_to_cart_order</th>\n",
       "      <th>reordered</th>\n",
       "      <th>aisle_id</th>\n",
       "      <th>department_id</th>\n",
       "    </tr>\n",
       "  </thead>\n",
       "  <tbody>\n",
       "    <tr>\n",
       "      <th>0</th>\n",
       "      <td>27u</td>\n",
       "      <td>81</td>\n",
       "      <td>361493o</td>\n",
       "      <td>1</td>\n",
       "      <td>3w</td>\n",
       "      <td>9h</td>\n",
       "      <td>30s</td>\n",
       "      <td>25718p</td>\n",
       "      <td>1c</td>\n",
       "      <td>0</td>\n",
       "      <td>26a</td>\n",
       "      <td>7d</td>\n",
       "    </tr>\n",
       "    <tr>\n",
       "      <th>1</th>\n",
       "      <td>27u</td>\n",
       "      <td>81</td>\n",
       "      <td>1007361o</td>\n",
       "      <td>5</td>\n",
       "      <td>2w</td>\n",
       "      <td>15h</td>\n",
       "      <td>4s</td>\n",
       "      <td>25718p</td>\n",
       "      <td>1c</td>\n",
       "      <td>1</td>\n",
       "      <td>26a</td>\n",
       "      <td>7d</td>\n",
       "    </tr>\n",
       "    <tr>\n",
       "      <th>2</th>\n",
       "      <td>27u</td>\n",
       "      <td>81</td>\n",
       "      <td>3141790o</td>\n",
       "      <td>11</td>\n",
       "      <td>5w</td>\n",
       "      <td>11h</td>\n",
       "      <td>1s</td>\n",
       "      <td>25718p</td>\n",
       "      <td>1c</td>\n",
       "      <td>1</td>\n",
       "      <td>26a</td>\n",
       "      <td>7d</td>\n",
       "    </tr>\n",
       "    <tr>\n",
       "      <th>3</th>\n",
       "      <td>27u</td>\n",
       "      <td>81</td>\n",
       "      <td>1380784o</td>\n",
       "      <td>12</td>\n",
       "      <td>1w</td>\n",
       "      <td>11h</td>\n",
       "      <td>3s</td>\n",
       "      <td>25718p</td>\n",
       "      <td>1c</td>\n",
       "      <td>1</td>\n",
       "      <td>26a</td>\n",
       "      <td>7d</td>\n",
       "    </tr>\n",
       "    <tr>\n",
       "      <th>4</th>\n",
       "      <td>27u</td>\n",
       "      <td>81</td>\n",
       "      <td>1659155o</td>\n",
       "      <td>13</td>\n",
       "      <td>2w</td>\n",
       "      <td>17h</td>\n",
       "      <td>1s</td>\n",
       "      <td>25718p</td>\n",
       "      <td>1c</td>\n",
       "      <td>1</td>\n",
       "      <td>26a</td>\n",
       "      <td>7d</td>\n",
       "    </tr>\n",
       "  </tbody>\n",
       "</table>\n",
       "</div>"
      ],
      "text/plain": [
       "  user_id  user_orders  order_id  order_number order_dow order_hour_of_day  \\\n",
       "0     27u           81   361493o             1        3w                9h   \n",
       "1     27u           81  1007361o             5        2w               15h   \n",
       "2     27u           81  3141790o            11        5w               11h   \n",
       "3     27u           81  1380784o            12        1w               11h   \n",
       "4     27u           81  1659155o            13        2w               17h   \n",
       "\n",
       "  days_since_prior_order product_id add_to_cart_order  reordered aisle_id  \\\n",
       "0                    30s     25718p                1c          0      26a   \n",
       "1                     4s     25718p                1c          1      26a   \n",
       "2                     1s     25718p                1c          1      26a   \n",
       "3                     3s     25718p                1c          1      26a   \n",
       "4                     1s     25718p                1c          1      26a   \n",
       "\n",
       "  department_id  \n",
       "0            7d  \n",
       "1            7d  \n",
       "2            7d  \n",
       "3            7d  \n",
       "4            7d  "
      ]
     },
     "execution_count": 113,
     "metadata": {},
     "output_type": "execute_result"
    }
   ],
   "source": [
    "df.head()"
   ]
  },
  {
   "cell_type": "code",
   "execution_count": 6,
   "metadata": {},
   "outputs": [],
   "source": [
    "df.loc[7048364] = \"a\""
   ]
  },
  {
   "cell_type": "code",
   "execution_count": 11,
   "metadata": {},
   "outputs": [
    {
     "data": {
      "text/plain": [
       "dtype('O')"
      ]
     },
     "execution_count": 11,
     "metadata": {},
     "output_type": "execute_result"
    }
   ],
   "source": [
    "df.user_id.dtype"
   ]
  },
  {
   "cell_type": "code",
   "execution_count": 124,
   "metadata": {},
   "outputs": [
    {
     "data": {
      "text/plain": [
       "9166"
      ]
     },
     "execution_count": 124,
     "metadata": {},
     "output_type": "execute_result"
    }
   ],
   "source": [
    "df.user_id.nunique()"
   ]
  },
  {
   "cell_type": "code",
   "execution_count": 12,
   "metadata": {},
   "outputs": [
    {
     "data": {
      "text/plain": [
       "dtype('O')"
      ]
     },
     "execution_count": 12,
     "metadata": {},
     "output_type": "execute_result"
    }
   ],
   "source": [
    "df.reordered.dtype"
   ]
  },
  {
   "cell_type": "code",
   "execution_count": 9,
   "metadata": {},
   "outputs": [],
   "source": [
    "df[-1,1] = 1"
   ]
  },
  {
   "cell_type": "code",
   "execution_count": 13,
   "metadata": {},
   "outputs": [
    {
     "data": {
      "text/plain": [
       "dtype('O')"
      ]
     },
     "execution_count": 13,
     "metadata": {},
     "output_type": "execute_result"
    }
   ],
   "source": [
    "df.user_orders.dtype"
   ]
  },
  {
   "cell_type": "code",
   "execution_count": 10,
   "metadata": {},
   "outputs": [],
   "source": [
    "df[-1,3] = 1"
   ]
  },
  {
   "cell_type": "code",
   "execution_count": 14,
   "metadata": {},
   "outputs": [],
   "source": [
    "df[-1,-3] = 1"
   ]
  },
  {
   "cell_type": "code",
   "execution_count": 83,
   "metadata": {},
   "outputs": [
    {
     "data": {
      "text/plain": [
       "pandas.core.series.Series"
      ]
     },
     "execution_count": 83,
     "metadata": {},
     "output_type": "execute_result"
    }
   ],
   "source": [
    "type(df.order_id)"
   ]
  },
  {
   "cell_type": "code",
   "execution_count": 64,
   "metadata": {},
   "outputs": [],
   "source": [
    "df['user_orders'] = df['user_orders'].astype(int)"
   ]
  },
  {
   "cell_type": "code",
   "execution_count": 129,
   "metadata": {},
   "outputs": [
    {
     "data": {
      "text/plain": [
       "dtype('int64')"
      ]
     },
     "execution_count": 129,
     "metadata": {},
     "output_type": "execute_result"
    }
   ],
   "source": [
    "df.add_to_cart_order.dtype"
   ]
  },
  {
   "cell_type": "code",
   "execution_count": 3,
   "metadata": {},
   "outputs": [
    {
     "data": {
      "text/html": [
       "<div>\n",
       "<style>\n",
       "    .dataframe thead tr:only-child th {\n",
       "        text-align: right;\n",
       "    }\n",
       "\n",
       "    .dataframe thead th {\n",
       "        text-align: left;\n",
       "    }\n",
       "\n",
       "    .dataframe tbody tr th {\n",
       "        vertical-align: top;\n",
       "    }\n",
       "</style>\n",
       "<table border=\"1\" class=\"dataframe\">\n",
       "  <thead>\n",
       "    <tr style=\"text-align: right;\">\n",
       "      <th></th>\n",
       "      <th>age</th>\n",
       "      <th>fnlwgt</th>\n",
       "      <th>education_num</th>\n",
       "      <th>capital_gain</th>\n",
       "      <th>capital_loss</th>\n",
       "      <th>hours_per_week</th>\n",
       "    </tr>\n",
       "  </thead>\n",
       "  <tbody>\n",
       "    <tr>\n",
       "      <th>count</th>\n",
       "      <td>16278.000000</td>\n",
       "      <td>1.627800e+04</td>\n",
       "      <td>16278.000000</td>\n",
       "      <td>16278.000000</td>\n",
       "      <td>16278.000000</td>\n",
       "      <td>16278.000000</td>\n",
       "    </tr>\n",
       "    <tr>\n",
       "      <th>mean</th>\n",
       "      <td>38.767416</td>\n",
       "      <td>1.894312e+05</td>\n",
       "      <td>10.072368</td>\n",
       "      <td>1081.769382</td>\n",
       "      <td>87.915469</td>\n",
       "      <td>40.390466</td>\n",
       "    </tr>\n",
       "    <tr>\n",
       "      <th>std</th>\n",
       "      <td>13.850370</td>\n",
       "      <td>1.057114e+05</td>\n",
       "      <td>2.567474</td>\n",
       "      <td>7584.547894</td>\n",
       "      <td>403.140665</td>\n",
       "      <td>12.479308</td>\n",
       "    </tr>\n",
       "    <tr>\n",
       "      <th>min</th>\n",
       "      <td>17.000000</td>\n",
       "      <td>1.349200e+04</td>\n",
       "      <td>1.000000</td>\n",
       "      <td>0.000000</td>\n",
       "      <td>0.000000</td>\n",
       "      <td>1.000000</td>\n",
       "    </tr>\n",
       "    <tr>\n",
       "      <th>25%</th>\n",
       "      <td>28.000000</td>\n",
       "      <td>1.167385e+05</td>\n",
       "      <td>9.000000</td>\n",
       "      <td>0.000000</td>\n",
       "      <td>0.000000</td>\n",
       "      <td>40.000000</td>\n",
       "    </tr>\n",
       "    <tr>\n",
       "      <th>50%</th>\n",
       "      <td>37.000000</td>\n",
       "      <td>1.778295e+05</td>\n",
       "      <td>10.000000</td>\n",
       "      <td>0.000000</td>\n",
       "      <td>0.000000</td>\n",
       "      <td>40.000000</td>\n",
       "    </tr>\n",
       "    <tr>\n",
       "      <th>75%</th>\n",
       "      <td>48.000000</td>\n",
       "      <td>2.383840e+05</td>\n",
       "      <td>12.000000</td>\n",
       "      <td>0.000000</td>\n",
       "      <td>0.000000</td>\n",
       "      <td>45.000000</td>\n",
       "    </tr>\n",
       "    <tr>\n",
       "      <th>max</th>\n",
       "      <td>90.000000</td>\n",
       "      <td>1.490400e+06</td>\n",
       "      <td>16.000000</td>\n",
       "      <td>99999.000000</td>\n",
       "      <td>3770.000000</td>\n",
       "      <td>99.000000</td>\n",
       "    </tr>\n",
       "  </tbody>\n",
       "</table>\n",
       "</div>"
      ],
      "text/plain": [
       "                age        fnlwgt  education_num  capital_gain  capital_loss  \\\n",
       "count  16278.000000  1.627800e+04   16278.000000  16278.000000  16278.000000   \n",
       "mean      38.767416  1.894312e+05      10.072368   1081.769382     87.915469   \n",
       "std       13.850370  1.057114e+05       2.567474   7584.547894    403.140665   \n",
       "min       17.000000  1.349200e+04       1.000000      0.000000      0.000000   \n",
       "25%       28.000000  1.167385e+05       9.000000      0.000000      0.000000   \n",
       "50%       37.000000  1.778295e+05      10.000000      0.000000      0.000000   \n",
       "75%       48.000000  2.383840e+05      12.000000      0.000000      0.000000   \n",
       "max       90.000000  1.490400e+06      16.000000  99999.000000   3770.000000   \n",
       "\n",
       "       hours_per_week  \n",
       "count    16278.000000  \n",
       "mean        40.390466  \n",
       "std         12.479308  \n",
       "min          1.000000  \n",
       "25%         40.000000  \n",
       "50%         40.000000  \n",
       "75%         45.000000  \n",
       "max         99.000000  "
      ]
     },
     "execution_count": 3,
     "metadata": {},
     "output_type": "execute_result"
    }
   ],
   "source": [
    "df.describe(include=[np.number])"
   ]
  },
  {
   "cell_type": "code",
   "execution_count": 192,
   "metadata": {},
   "outputs": [
    {
     "data": {
      "text/plain": [
       "dtype('O')"
      ]
     },
     "execution_count": 192,
     "metadata": {},
     "output_type": "execute_result"
    }
   ],
   "source": [
    "df.aisle_id.dtype"
   ]
  },
  {
   "cell_type": "code",
   "execution_count": 4,
   "metadata": {},
   "outputs": [
    {
     "data": {
      "text/html": [
       "<div>\n",
       "<style>\n",
       "    .dataframe thead tr:only-child th {\n",
       "        text-align: right;\n",
       "    }\n",
       "\n",
       "    .dataframe thead th {\n",
       "        text-align: left;\n",
       "    }\n",
       "\n",
       "    .dataframe tbody tr th {\n",
       "        vertical-align: top;\n",
       "    }\n",
       "</style>\n",
       "<table border=\"1\" class=\"dataframe\">\n",
       "  <thead>\n",
       "    <tr style=\"text-align: right;\">\n",
       "      <th></th>\n",
       "      <th>workclass</th>\n",
       "      <th>education</th>\n",
       "      <th>marital_status</th>\n",
       "      <th>occupation</th>\n",
       "      <th>relationship</th>\n",
       "      <th>race</th>\n",
       "      <th>gender</th>\n",
       "      <th>native_country</th>\n",
       "      <th>income_bracket</th>\n",
       "    </tr>\n",
       "  </thead>\n",
       "  <tbody>\n",
       "    <tr>\n",
       "      <th>count</th>\n",
       "      <td>16278</td>\n",
       "      <td>16278</td>\n",
       "      <td>16278</td>\n",
       "      <td>16278</td>\n",
       "      <td>16278</td>\n",
       "      <td>16278</td>\n",
       "      <td>16278</td>\n",
       "      <td>16278</td>\n",
       "      <td>16278</td>\n",
       "    </tr>\n",
       "    <tr>\n",
       "      <th>unique</th>\n",
       "      <td>9</td>\n",
       "      <td>16</td>\n",
       "      <td>7</td>\n",
       "      <td>15</td>\n",
       "      <td>6</td>\n",
       "      <td>5</td>\n",
       "      <td>2</td>\n",
       "      <td>41</td>\n",
       "      <td>2</td>\n",
       "    </tr>\n",
       "    <tr>\n",
       "      <th>top</th>\n",
       "      <td>Private</td>\n",
       "      <td>HS-grad</td>\n",
       "      <td>Married-civ-spouse</td>\n",
       "      <td>Prof-specialty</td>\n",
       "      <td>Husband</td>\n",
       "      <td>White</td>\n",
       "      <td>Male</td>\n",
       "      <td>United-States</td>\n",
       "      <td>&lt;=50K</td>\n",
       "    </tr>\n",
       "    <tr>\n",
       "      <th>freq</th>\n",
       "      <td>11208</td>\n",
       "      <td>5283</td>\n",
       "      <td>7401</td>\n",
       "      <td>2031</td>\n",
       "      <td>6521</td>\n",
       "      <td>13944</td>\n",
       "      <td>10857</td>\n",
       "      <td>14659</td>\n",
       "      <td>12433</td>\n",
       "    </tr>\n",
       "  </tbody>\n",
       "</table>\n",
       "</div>"
      ],
      "text/plain": [
       "       workclass education       marital_status       occupation relationship  \\\n",
       "count      16278     16278                16278            16278        16278   \n",
       "unique         9        16                    7               15            6   \n",
       "top      Private   HS-grad   Married-civ-spouse   Prof-specialty      Husband   \n",
       "freq       11208      5283                 7401             2031         6521   \n",
       "\n",
       "          race gender  native_country income_bracket  \n",
       "count    16278  16278           16278          16278  \n",
       "unique       5      2              41              2  \n",
       "top      White   Male   United-States          <=50K  \n",
       "freq     13944  10857           14659          12433  "
      ]
     },
     "execution_count": 4,
     "metadata": {},
     "output_type": "execute_result"
    }
   ],
   "source": [
    "df.describe(include=[np.object])"
   ]
  },
  {
   "cell_type": "code",
   "execution_count": 7,
   "metadata": {},
   "outputs": [
    {
     "data": {
      "text/html": [
       "<div>\n",
       "<style scoped>\n",
       "    .dataframe tbody tr th:only-of-type {\n",
       "        vertical-align: middle;\n",
       "    }\n",
       "\n",
       "    .dataframe tbody tr th {\n",
       "        vertical-align: top;\n",
       "    }\n",
       "\n",
       "    .dataframe thead th {\n",
       "        text-align: right;\n",
       "    }\n",
       "</style>\n",
       "<table border=\"1\" class=\"dataframe\">\n",
       "  <thead>\n",
       "    <tr style=\"text-align: right;\">\n",
       "      <th></th>\n",
       "      <th>age</th>\n",
       "      <th>fnlwgt</th>\n",
       "      <th>education_num</th>\n",
       "      <th>capital_gain</th>\n",
       "      <th>capital_loss</th>\n",
       "      <th>hours_per_week</th>\n",
       "    </tr>\n",
       "  </thead>\n",
       "  <tbody>\n",
       "    <tr>\n",
       "      <th>age</th>\n",
       "      <td>1.000000</td>\n",
       "      <td>-0.076556</td>\n",
       "      <td>0.019944</td>\n",
       "      <td>0.076362</td>\n",
       "      <td>0.055304</td>\n",
       "      <td>0.077096</td>\n",
       "    </tr>\n",
       "    <tr>\n",
       "      <th>fnlwgt</th>\n",
       "      <td>-0.076556</td>\n",
       "      <td>1.000000</td>\n",
       "      <td>-0.029951</td>\n",
       "      <td>-0.011705</td>\n",
       "      <td>0.007396</td>\n",
       "      <td>-0.003234</td>\n",
       "    </tr>\n",
       "    <tr>\n",
       "      <th>education_num</th>\n",
       "      <td>0.019944</td>\n",
       "      <td>-0.029951</td>\n",
       "      <td>1.000000</td>\n",
       "      <td>0.130089</td>\n",
       "      <td>0.083133</td>\n",
       "      <td>0.134766</td>\n",
       "    </tr>\n",
       "    <tr>\n",
       "      <th>capital_gain</th>\n",
       "      <td>0.076362</td>\n",
       "      <td>-0.011705</td>\n",
       "      <td>0.130089</td>\n",
       "      <td>1.000000</td>\n",
       "      <td>-0.031106</td>\n",
       "      <td>0.089421</td>\n",
       "    </tr>\n",
       "    <tr>\n",
       "      <th>capital_loss</th>\n",
       "      <td>0.055304</td>\n",
       "      <td>0.007396</td>\n",
       "      <td>0.083133</td>\n",
       "      <td>-0.031106</td>\n",
       "      <td>1.000000</td>\n",
       "      <td>0.054926</td>\n",
       "    </tr>\n",
       "    <tr>\n",
       "      <th>hours_per_week</th>\n",
       "      <td>0.077096</td>\n",
       "      <td>-0.003234</td>\n",
       "      <td>0.134766</td>\n",
       "      <td>0.089421</td>\n",
       "      <td>0.054926</td>\n",
       "      <td>1.000000</td>\n",
       "    </tr>\n",
       "  </tbody>\n",
       "</table>\n",
       "</div>"
      ],
      "text/plain": [
       "                     age    fnlwgt  education_num  capital_gain  capital_loss  \\\n",
       "age             1.000000 -0.076556       0.019944      0.076362      0.055304   \n",
       "fnlwgt         -0.076556  1.000000      -0.029951     -0.011705      0.007396   \n",
       "education_num   0.019944 -0.029951       1.000000      0.130089      0.083133   \n",
       "capital_gain    0.076362 -0.011705       0.130089      1.000000     -0.031106   \n",
       "capital_loss    0.055304  0.007396       0.083133     -0.031106      1.000000   \n",
       "hours_per_week  0.077096 -0.003234       0.134766      0.089421      0.054926   \n",
       "\n",
       "                hours_per_week  \n",
       "age                   0.077096  \n",
       "fnlwgt               -0.003234  \n",
       "education_num         0.134766  \n",
       "capital_gain          0.089421  \n",
       "capital_loss          0.054926  \n",
       "hours_per_week        1.000000  "
      ]
     },
     "execution_count": 7,
     "metadata": {},
     "output_type": "execute_result"
    }
   ],
   "source": [
    "df.corr()"
   ]
  },
  {
   "cell_type": "code",
   "execution_count": 3,
   "metadata": {},
   "outputs": [
    {
     "name": "stdout",
     "output_type": "stream",
     "text": [
      "input function configured\n"
     ]
    }
   ],
   "source": [
    "BATCH_SIZE = 30\n",
    "\n",
    "def generate_input_fn(filename, num_epochs=None, shuffle=True, batch_size=BATCH_SIZE):\n",
    "    df = pd.read_csv(filename, header=None, names=COLUMNS)\n",
    "    labels = df[\"reordered\"].astype(int) #.apply(lambda x: \">50K\" in x).astype(int)\n",
    "#     del df[\"user_orders\"] # Unused column\n",
    "#     del df[\"add_to_cart_order\"]\n",
    "#     del df[\"aisle_id\"]\n",
    "#     del df[\"department_id\"]\n",
    "#     del df[\"order_id\"]\n",
    "#     del df[\"days_since_prior_order\"]\n",
    "#     del df[\"order_number\"]\n",
    "    del df[\"reordered\"] # Labels column, already saved to labels variable\n",
    "    \n",
    "    return tf.estimator.inputs.pandas_input_fn(\n",
    "        x=df,\n",
    "        y=labels,\n",
    "        batch_size=batch_size,\n",
    "        num_epochs=3,\n",
    "        shuffle=shuffle)\n",
    "\n",
    "print('input function configured')"
   ]
  },
  {
   "cell_type": "code",
   "execution_count": 138,
   "metadata": {},
   "outputs": [
    {
     "data": {
      "text/plain": [
       "dtype('O')"
      ]
     },
     "execution_count": 138,
     "metadata": {},
     "output_type": "execute_result"
    }
   ],
   "source": [
    "df.reordered.dtype"
   ]
  },
  {
   "cell_type": "code",
   "execution_count": 7,
   "metadata": {},
   "outputs": [
    {
     "name": "stdout",
     "output_type": "stream",
     "text": [
      "Categorical columns configured\n",
      "Wall time: 0 ns\n"
     ]
    }
   ],
   "source": [
    "%%time\n",
    "# The layers module contains many utilities for creating feature columns.\n",
    "\n",
    "# Categorical base columns.\n",
    "# order_dow = tf.feature_column.categorical_column_with_vocabulary_list(key=\"order_dow\", \n",
    "#                                                                    vocabulary_list=[\"0\", \"1\", \"2\", \"3\", \"4\", \"5\", \"6\"])\n",
    "# race = tf.feature_column.categorical_column_with_vocabulary_list(key=\"race\",\n",
    "#                                                                  vocabulary_list=[\"Amer-Indian-Eskimo\",\n",
    "#                                                                        \"Asian-Pac-Islander\",\n",
    "#                                                                        \"Black\", \"Other\",\n",
    "#                                                                        \"White\"])\n",
    "\n",
    "# order_hour_of_day = tf.feature_column.categorical_column_with_hash_bucket(\n",
    "#   \"order_hour_of_day\", hash_bucket_size=100)\n",
    "aisle_id = tf.feature_column.categorical_column_with_hash_bucket(\n",
    "  \"aisle_id\", hash_bucket_size=100)\n",
    "department_id = tf.feature_column.categorical_column_with_hash_bucket(\n",
    "  \"department_id\", hash_bucket_size=100)\n",
    "order_id = tf.feature_column.categorical_column_with_hash_bucket(\n",
    "  \"order_id\", hash_bucket_size=2000000)\n",
    "user_id = tf.feature_column.categorical_column_with_hash_bucket(\n",
    "  \"user_id\", hash_bucket_size=50000)\n",
    "product_id = tf.feature_column.categorical_column_with_hash_bucket(\n",
    "  \"product_id\", hash_bucket_size=50000)\n",
    "# days_since_prior_order = tf.feature_column.categorical_column_with_hash_bucket(\n",
    "#   \"days_since_prior_order\", hash_bucket_size=100)\n",
    "# add_to_cart_order = tf.feature_column.categorical_column_with_hash_bucket(\n",
    "#   \"add_to_cart_order\", hash_bucket_size=100)\n",
    "# order_number = tf.feature_column.categorical_column_with_hash_bucket(\n",
    "#   \"order_number\", hash_bucket_size=500)\n",
    "\n",
    "print('Categorical columns configured')"
   ]
  },
  {
   "cell_type": "code",
   "execution_count": 190,
   "metadata": {
    "scrolled": true
   },
   "outputs": [
    {
     "data": {
      "text/plain": [
       "tf.string"
      ]
     },
     "execution_count": 190,
     "metadata": {},
     "output_type": "execute_result"
    }
   ],
   "source": [
    "aisle_id.dtype"
   ]
  },
  {
   "cell_type": "code",
   "execution_count": 8,
   "metadata": {},
   "outputs": [
    {
     "name": "stdout",
     "output_type": "stream",
     "text": [
      "Continuous columns configured\n",
      "Wall time: 0 ns\n"
     ]
    }
   ],
   "source": [
    "%%time\n",
    "# Continuous base columns.\n",
    "user_orders = tf.feature_column.numeric_column(\"user_orders\")\n",
    "order_number = tf.feature_column.numeric_column(\"order_number\")\n",
    "add_to_cart_order = tf.feature_column.numeric_column(\"add_to_cart_order\")\n",
    "days_since_prior_order = tf.feature_column.numeric_column(\"days_since_prior_order\")\n",
    "order_hour_of_day = tf.feature_column.numeric_column(\"order_hour_of_day\")\n",
    "order_dow = tf.feature_column.numeric_column(\"order_dow\")\n",
    "# # capital_loss  = tf.feature_column.numeric_column(\"capital_loss\")\n",
    "# hours_per_week = tf.feature_column.numeric_column(\"hours_per_week\")\n",
    "\n",
    "print('Continuous columns configured')"
   ]
  },
  {
   "cell_type": "code",
   "execution_count": 16,
   "metadata": {},
   "outputs": [
    {
     "data": {
      "text/plain": [
       "tf.float32"
      ]
     },
     "execution_count": 16,
     "metadata": {},
     "output_type": "execute_result"
    }
   ],
   "source": [
    "user_orders.dtype"
   ]
  },
  {
   "cell_type": "code",
   "execution_count": 11,
   "metadata": {},
   "outputs": [],
   "source": [
    "# # Transformations.\n",
    "\n",
    "order_hour_of_day_buckets = tf.feature_column.bucketized_column(\n",
    "    order_hour_of_day, boundaries=[ 0, 6, 12, 18 ])\n",
    "order_day_hour = tf.feature_column.crossed_column(\n",
    "    [\"order_hour_of_day\", \"order_dow\"], hash_bucket_size=int(1e4))\n",
    "\n",
    "    \n",
    "# age_buckets = tf.feature_column.bucketized_column(\n",
    "#     age, boundaries=[ 18, 25, 30, 35, 40, 45, 50, 55, 60, 65 ])\n",
    "\n",
    "# education_occupation = tf.feature_column.crossed_column(\n",
    "#     [\"education\", \"occupation\"], hash_bucket_size=int(1e4))\n",
    "\n",
    "# age_race_occupation = tf.feature_column.crossed_column(\n",
    "#     [age_buckets, \"race\", \"occupation\"], hash_bucket_size=int(1e6))\n",
    "\n",
    "# country_occupation = tf.feature_column.crossed_column(\n",
    "#     [\"native_country\", \"occupation\"], hash_bucket_size=int(1e4))\n",
    "\n",
    "# print('Transformations complete')"
   ]
  },
  {
   "cell_type": "code",
   "execution_count": 13,
   "metadata": {},
   "outputs": [
    {
     "name": "stdout",
     "output_type": "stream",
     "text": [
      "wide and deep columns configured\n",
      "Wall time: 2.5 ms\n"
     ]
    }
   ],
   "source": [
    "%%time\n",
    "# Wide columns and deep columns.\n",
    "wide_columns = [order_dow, order_hour_of_day, aisle_id,\n",
    "      user_id, department_id, order_id, add_to_cart_order,\n",
    "      product_id, days_since_prior_order, order_day_hour, order_hour_of_day_buckets]\n",
    "      #add_to_cart_order,user_orders]\n",
    "\n",
    "deep_columns = [\n",
    "    # Multi-hot indicator columns for columns with fewer possibilities\n",
    "#     tf.feature_column.indicator_column(order_dow),\n",
    "#     tf.feature_column.indicator_column(order_hour_of_day),\n",
    "    tf.feature_column.embedding_column(aisle_id, dimension=30),\n",
    "    tf.feature_column.embedding_column(department_id, dimension=30),\n",
    "#     tf.feature_column.indicator_column(order_id),\n",
    "#     tf.feature_column.indicator_column(days_since_prior_order),\n",
    "#     tf.feature_column.indicator_column(add_to_cart_order),\n",
    "#     tf.feature_column.indicator_column(order_number),\n",
    "#     tf.feature_column.indicator_column(department_id),\n",
    "    # Embeddings for categories with more possibilities\n",
    "    tf.feature_column.embedding_column(order_id, dimension=30),\n",
    "    tf.feature_column.embedding_column(user_id, dimension=30),\n",
    "    tf.feature_column.embedding_column(product_id, dimension=30),\n",
    "    # Numerical columns\n",
    "    order_number,\n",
    "    add_to_cart_order,\n",
    "    days_since_prior_order,\n",
    "    order_hour_of_day,\n",
    "    order_dow,\n",
    "    user_orders,\n",
    "]\n",
    "\n",
    "print('wide and deep columns configured')"
   ]
  },
  {
   "cell_type": "code",
   "execution_count": 14,
   "metadata": {
    "scrolled": true
   },
   "outputs": [
    {
     "name": "stdout",
     "output_type": "stream",
     "text": [
      "Model directory = models/model_WIDE_AND_DEEP_1518615108\n",
      "INFO:tensorflow:Using default config.\n",
      "INFO:tensorflow:Using config: {'_model_dir': 'models/model_WIDE_AND_DEEP_1518615108', '_tf_random_seed': None, '_save_summary_steps': 100, '_save_checkpoints_steps': None, '_save_checkpoints_secs': 600, '_session_config': None, '_keep_checkpoint_max': 5, '_keep_checkpoint_every_n_hours': 10000, '_log_step_count_steps': 100, '_service': None, '_cluster_spec': <tensorflow.python.training.server_lib.ClusterSpec object at 0x0000000013AA4F60>, '_task_type': 'worker', '_task_id': 0, '_master': '', '_is_chief': True, '_num_ps_replicas': 0, '_num_worker_replicas': 1}\n",
      "estimator built\n",
      "Wall time: 10 ms\n"
     ]
    }
   ],
   "source": [
    "%%time\n",
    "def create_model_dir(model_type):\n",
    "    return 'models/model_' + model_type + '_' + str(int(time.time()))\n",
    "\n",
    "# If new_model=False, pass in the desired model_dir \n",
    "def get_model(model_type, new_model=False, model_dir=None):\n",
    "    if new_model or model_dir is None:\n",
    "        model_dir = create_model_dir(model_type) # Comment out this line to continue training a existing model\n",
    "    print(\"Model directory = %s\" % model_dir)\n",
    "    \n",
    "    m = None\n",
    "    \n",
    "    # Linear Classifier\n",
    "    if model_type == 'WIDE':\n",
    "        m = tf.estimator.LinearClassifier(\n",
    "            model_dir=model_dir, \n",
    "            feature_columns=wide_columns)\n",
    "\n",
    "    # Deep Neural Net Classifier\n",
    "    if model_type == 'DEEP':\n",
    "        m = tf.estimator.DNNClassifier(\n",
    "            model_dir=model_dir,\n",
    "            feature_columns=deep_columns,\n",
    "            hidden_units=[200, 150])\n",
    "\n",
    "    # Combined Linear and Deep Classifier\n",
    "    if model_type == 'WIDE_AND_DEEP':\n",
    "        m = tf.estimator.DNNLinearCombinedClassifier(\n",
    "                model_dir=model_dir,\n",
    "                linear_feature_columns=wide_columns,\n",
    "                dnn_feature_columns=deep_columns,\n",
    "                dnn_hidden_units=[200, 150])\n",
    "        \n",
    "    print('estimator built')\n",
    "    \n",
    "    return m, model_dir\n",
    "    \n",
    "MODEL_TYPE = 'WIDE_AND_DEEP'\n",
    "model_dir = create_model_dir(model_type=MODEL_TYPE)\n",
    "m, model_dir = get_model(model_type = MODEL_TYPE, model_dir=model_dir)"
   ]
  },
  {
   "cell_type": "code",
   "execution_count": 15,
   "metadata": {},
   "outputs": [
    {
     "name": "stdout",
     "output_type": "stream",
     "text": [
      "INFO:tensorflow:Create CheckpointSaverHook.\n",
      "INFO:tensorflow:Saving checkpoints for 1 into models/model_WIDE_AND_DEEP_1518615108\\model.ckpt.\n",
      "INFO:tensorflow:loss = 33.97393, step = 1\n",
      "INFO:tensorflow:global_step/sec: 125.784\n",
      "INFO:tensorflow:loss = 14.251782, step = 101 (0.800 sec)\n",
      "INFO:tensorflow:Saving checkpoints for 200 into models/model_WIDE_AND_DEEP_1518615108\\model.ckpt.\n",
      "INFO:tensorflow:Loss for final step: 13.408324.\n",
      "training done\n",
      "Wall time: 30.8 s\n"
     ]
    }
   ],
   "source": [
    "%%time \n",
    "\n",
    "train_file = str(\"train53w6.csv\") \n",
    "# \"gs://cloudml-public/census/data/adult.data.csv\"\n",
    "# storage.googleapis.com/cloudml-public/census/data/adult.data.csv\n",
    "\n",
    "m.train(input_fn=generate_input_fn(train_file), \n",
    "      steps=200)\n",
    "\n",
    "print('training done')"
   ]
  },
  {
   "cell_type": "code",
   "execution_count": 16,
   "metadata": {
    "scrolled": true
   },
   "outputs": [
    {
     "name": "stdout",
     "output_type": "stream",
     "text": [
      "INFO:tensorflow:Starting evaluation at 2018-02-14-13:36:42\n",
      "INFO:tensorflow:Restoring parameters from models/model_WIDE_AND_DEEP_1518615108\\model.ckpt-200\n",
      "INFO:tensorflow:Evaluation [10/100]\n",
      "INFO:tensorflow:Evaluation [20/100]\n",
      "INFO:tensorflow:Evaluation [30/100]\n",
      "INFO:tensorflow:Evaluation [40/100]\n",
      "INFO:tensorflow:Evaluation [50/100]\n",
      "INFO:tensorflow:Evaluation [60/100]\n",
      "INFO:tensorflow:Evaluation [70/100]\n",
      "INFO:tensorflow:Evaluation [80/100]\n",
      "INFO:tensorflow:Evaluation [90/100]\n",
      "INFO:tensorflow:Evaluation [100/100]\n",
      "INFO:tensorflow:Finished evaluation at 2018-02-14-13:36:45\n",
      "INFO:tensorflow:Saving dict for global step 200: accuracy = 0.84533334, accuracy_baseline = 0.84533334, auc = 0.53889465, auc_precision_recall = 0.86502326, average_loss = 0.4432231, global_step = 200, label/mean = 0.84533334, loss = 13.296693, prediction/mean = 0.88115406\n",
      "evaluate done\n",
      "\n",
      "Accuracy: 0.84533334\n",
      "Wall time: 9.97 s\n"
     ]
    }
   ],
   "source": [
    "%%time\n",
    "test_file  = str(\"test53w6.csv\") \n",
    "\n",
    "results = m.evaluate(input_fn=generate_input_fn(test_file, num_epochs=3, shuffle=True), \n",
    "                     steps=100)\n",
    "print('evaluate done')\n",
    "print('\\nAccuracy: %s' % results['accuracy'])"
   ]
  },
  {
   "cell_type": "code",
   "execution_count": null,
   "metadata": {},
   "outputs": [],
   "source": [
    "# Create a dataframe to wrap in an input function\n",
    "df = pd.read_csv(\"test53w6.csv\", header=None, names=COLUMNS)\n",
    "data_predict = df.iloc[8000:8005]\n",
    "data_predict.head() # show this before deleting, so we know what the labels are\n",
    "\n",
    "# If you run this cell twice, it will give an error since you'd be deleting something that was already gone\n",
    "# del data_predict[\"fnlwgt\"] # Unused column\n",
    "# del data_predict[\"reordered\"] # remove the label column\n",
    "\n",
    "predict_input_fn = tf.estimator.inputs.pandas_input_fn(\n",
    "        x=data_predict,\n",
    "        batch_size=1,\n",
    "        num_epochs=1,\n",
    "        shuffle=False)\n",
    "\n",
    "predictions = m.predict(input_fn=predict_input_fn)\n",
    "\n",
    "for prediction in predictions:\n",
    "    print(\"Predictions:    {} with probabilities {}\\n\".format(prediction[\"classes\"], prediction[\"probabilities\"]))"
   ]
  },
  {
   "cell_type": "code",
   "execution_count": 17,
   "metadata": {},
   "outputs": [
    {
     "name": "stdout",
     "output_type": "stream",
     "text": [
      "INFO:tensorflow:Signatures INCLUDED in export for Classify: ['serving_default', 'classification']\n",
      "INFO:tensorflow:Signatures INCLUDED in export for Regress: ['regression']\n",
      "INFO:tensorflow:Signatures INCLUDED in export for Predict: ['predict']\n",
      "INFO:tensorflow:Restoring parameters from models/model_WIDE_AND_DEEP_1518615108\\model.ckpt-200\n",
      "INFO:tensorflow:Assets added to graph.\n",
      "INFO:tensorflow:No assets to write.\n",
      "INFO:tensorflow:SavedModel written to: b\"models/model_WIDE_AND_DEEP_1518615108\\\\temp-b'1518615455'\\\\saved_model.pb\"\n"
     ]
    },
    {
     "data": {
      "text/plain": [
       "b'models/model_WIDE_AND_DEEP_1518615108\\\\1518615455'"
      ]
     },
     "execution_count": 17,
     "metadata": {},
     "output_type": "execute_result"
    }
   ],
   "source": [
    "def column_to_dtype(column):\n",
    "    if column in CATEGORICAL_COLUMNS:\n",
    "        return tf.string\n",
    "    else:\n",
    "        return tf.float32\n",
    "    \n",
    "feature_spec = {\n",
    "    column: tf.FixedLenFeature(shape=[1], dtype=column_to_dtype(column))\n",
    "        for column in FEATURE_COLUMNS\n",
    "}\n",
    "serving_fn = tf.estimator.export.build_parsing_serving_input_receiver_fn(feature_spec)\n",
    "m.export_savedmodel(export_dir_base=model_dir,# + '/export/', \n",
    "                            serving_input_receiver_fn=serving_fn)"
   ]
  }
 ],
 "metadata": {
  "kernelspec": {
   "display_name": "Python 3",
   "language": "python",
   "name": "python3"
  },
  "language_info": {
   "codemirror_mode": {
    "name": "ipython",
    "version": 3
   },
   "file_extension": ".py",
   "mimetype": "text/x-python",
   "name": "python",
   "nbconvert_exporter": "python",
   "pygments_lexer": "ipython3",
   "version": "3.6.4"
  }
 },
 "nbformat": 4,
 "nbformat_minor": 2
}
