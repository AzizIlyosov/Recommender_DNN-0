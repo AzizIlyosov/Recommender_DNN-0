{
 "cells": [
  {
   "cell_type": "code",
   "execution_count": 1,
   "metadata": {
    "collapsed": true
   },
   "outputs": [],
   "source": [
    "import numpy as np\n",
    "import pandas as pd\n",
    "import os\n",
    "\n",
    "%matplotlib inline\n",
    "\n",
    "import matplotlib.pyplot as plt\n",
    "\n",
    "import seaborn as sns\n",
    "sns.set(color_codes=True)"
   ]
  },
  {
   "cell_type": "code",
   "execution_count": 2,
   "metadata": {},
   "outputs": [
    {
     "name": "stdout",
     "output_type": "stream",
     "text": [
      "loading files ...\n",
      "done loading\n",
      "merge prior and orders and keep train separate ...\n"
     ]
    }
   ],
   "source": [
    "myfolder = 'F:/rs/Recommender_DNN/input/'\n",
    "\n",
    "\n",
    "print('loading files ...')\n",
    "\n",
    "prior = pd.read_csv(myfolder + 'order_products__prior.csv', dtype={'order_id': np.uint32,\n",
    "           'product_id': np.uint16, 'reordered': np.uint8, 'add_to_cart_order': np.uint8})\n",
    "\n",
    "train_orders = pd.read_csv(myfolder + 'order_products__train.csv', dtype={'order_id': np.uint32,\n",
    "           'product_id': np.uint16, 'reordered': np.int8, 'add_to_cart_order': np.uint8 })\n",
    "\n",
    "orders = pd.read_csv(myfolder + 'orders.csv', dtype={'order_hour_of_day': np.uint8,\n",
    "           'order_number': np.uint8, 'order_id': np.uint32, 'user_id': np.uint32,\n",
    "           'order_dow': np.uint8, 'days_since_prior_order': np.float16})\n",
    "\n",
    "orders.eval_set = orders.eval_set.replace({'prior': 0, 'train': 1, 'test':2}).astype(np.uint8)\n",
    "orders.days_since_prior_order = orders.days_since_prior_order.fillna(30).astype(np.uint8)\n",
    "\n",
    "products = pd.read_csv(myfolder + 'products.csv', dtype={'product_id': np.uint16,\n",
    "            'aisle_id': np.uint8, 'department_id': np.uint8},\n",
    "             usecols=['product_id', 'aisle_id', 'department_id'])\n",
    "\n",
    "print('done loading')\n",
    "\n",
    "\n",
    "print('merge prior and orders and keep train separate ...')\n",
    "\n",
    "orders_products = orders.merge(prior, how = 'inner', on = 'order_id')\n",
    "train_orders = train_orders.merge(orders[['user_id','order_id']], left_on = 'order_id', right_on = 'order_id', how = 'inner')\n",
    "\n",
    "\n",
    "del prior\n"
   ]
  },
  {
   "cell_type": "markdown",
   "metadata": {},
   "source": [
    "# Feature Engineering\n",
    "Usualy there are two popular approaches to solve top-N recommander systems:  \n",
    "## User-based Approach:\n",
    "Each person belongs in a larger group of similarly behaving individuals, items frequently purchased/liked by the various members of the group can be used to form the basis of the recommended items.  \n",
    "## Product based Approach: \n",
    "analyzed the historical information to identify relations betwen the different items such that the purchase of an item(or a set of items) often lead to the purchase of another item(or a set if items)."
   ]
  },
  {
   "cell_type": "markdown",
   "metadata": {},
   "source": [
    "## User Features\n",
    "user_orders:User total orders  \n",
    "user_period: How long has this user stayed since first user  \n",
    "user_mean_days_since_prior: How often does this user make a order  \n",
    "user_total_products  \n",
    "user_distinct_products  \n",
    "user_average_basket: How many items this user bought per order  \n",
    "days_since_prior_order"
   ]
  },
  {
   "cell_type": "code",
   "execution_count": 3,
   "metadata": {},
   "outputs": [
    {
     "data": {
      "text/html": [
       "<div>\n",
       "<style>\n",
       "    .dataframe thead tr:only-child th {\n",
       "        text-align: right;\n",
       "    }\n",
       "\n",
       "    .dataframe thead th {\n",
       "        text-align: left;\n",
       "    }\n",
       "\n",
       "    .dataframe tbody tr th {\n",
       "        vertical-align: top;\n",
       "    }\n",
       "</style>\n",
       "<table border=\"1\" class=\"dataframe\">\n",
       "  <thead>\n",
       "    <tr style=\"text-align: right;\">\n",
       "      <th></th>\n",
       "      <th>user_id</th>\n",
       "      <th>user_orders</th>\n",
       "      <th>user_period</th>\n",
       "      <th>user_mean_days_since_prior</th>\n",
       "      <th>user_total_products</th>\n",
       "      <th>user_distinct_products</th>\n",
       "      <th>user_average_basket</th>\n",
       "      <th>order_id</th>\n",
       "      <th>eval_set</th>\n",
       "      <th>days_since_prior_order</th>\n",
       "    </tr>\n",
       "  </thead>\n",
       "  <tbody>\n",
       "    <tr>\n",
       "      <th>0</th>\n",
       "      <td>1</td>\n",
       "      <td>10</td>\n",
       "      <td>206.0</td>\n",
       "      <td>20.600000</td>\n",
       "      <td>59</td>\n",
       "      <td>18</td>\n",
       "      <td>5.900000</td>\n",
       "      <td>1187899</td>\n",
       "      <td>1</td>\n",
       "      <td>14</td>\n",
       "    </tr>\n",
       "    <tr>\n",
       "      <th>1</th>\n",
       "      <td>2</td>\n",
       "      <td>14</td>\n",
       "      <td>228.0</td>\n",
       "      <td>16.285714</td>\n",
       "      <td>195</td>\n",
       "      <td>102</td>\n",
       "      <td>13.928571</td>\n",
       "      <td>1492625</td>\n",
       "      <td>1</td>\n",
       "      <td>30</td>\n",
       "    </tr>\n",
       "    <tr>\n",
       "      <th>2</th>\n",
       "      <td>3</td>\n",
       "      <td>12</td>\n",
       "      <td>163.0</td>\n",
       "      <td>13.583333</td>\n",
       "      <td>88</td>\n",
       "      <td>33</td>\n",
       "      <td>7.333333</td>\n",
       "      <td>2774568</td>\n",
       "      <td>2</td>\n",
       "      <td>11</td>\n",
       "    </tr>\n",
       "    <tr>\n",
       "      <th>3</th>\n",
       "      <td>4</td>\n",
       "      <td>5</td>\n",
       "      <td>85.0</td>\n",
       "      <td>17.000000</td>\n",
       "      <td>18</td>\n",
       "      <td>17</td>\n",
       "      <td>3.600000</td>\n",
       "      <td>329954</td>\n",
       "      <td>2</td>\n",
       "      <td>30</td>\n",
       "    </tr>\n",
       "    <tr>\n",
       "      <th>4</th>\n",
       "      <td>5</td>\n",
       "      <td>4</td>\n",
       "      <td>70.0</td>\n",
       "      <td>17.500000</td>\n",
       "      <td>37</td>\n",
       "      <td>23</td>\n",
       "      <td>9.250000</td>\n",
       "      <td>2196797</td>\n",
       "      <td>1</td>\n",
       "      <td>6</td>\n",
       "    </tr>\n",
       "  </tbody>\n",
       "</table>\n",
       "</div>"
      ],
      "text/plain": [
       "   user_id  user_orders  user_period  user_mean_days_since_prior  \\\n",
       "0        1           10        206.0                   20.600000   \n",
       "1        2           14        228.0                   16.285714   \n",
       "2        3           12        163.0                   13.583333   \n",
       "3        4            5         85.0                   17.000000   \n",
       "4        5            4         70.0                   17.500000   \n",
       "\n",
       "   user_total_products  user_distinct_products  user_average_basket  order_id  \\\n",
       "0                   59                      18             5.900000   1187899   \n",
       "1                  195                     102            13.928571   1492625   \n",
       "2                   88                      33             7.333333   2774568   \n",
       "3                   18                      17             3.600000    329954   \n",
       "4                   37                      23             9.250000   2196797   \n",
       "\n",
       "   eval_set  days_since_prior_order  \n",
       "0         1                      14  \n",
       "1         1                      30  \n",
       "2         2                      11  \n",
       "3         2                      30  \n",
       "4         1                       6  "
      ]
     },
     "execution_count": 3,
     "metadata": {},
     "output_type": "execute_result"
    }
   ],
   "source": [
    "# extracting prior information (features) by user\n",
    "users = orders[orders['eval_set'] == 0].groupby(['user_id'])['order_number'].max().to_frame('user_orders')\n",
    "users['user_period'] = orders[orders['eval_set'] == 0].groupby(['user_id'])['days_since_prior_order'].sum()\n",
    "users['user_mean_days_since_prior'] = orders[orders['eval_set'] == 0].groupby(['user_id'])['days_since_prior_order'].mean()\n",
    "\n",
    "# merging features about users and orders into one dataset\n",
    "us = orders_products.groupby('user_id').size().to_frame('user_total_products')\n",
    "us['eq_1'] = orders_products[orders_products['reordered'] == 1].groupby('user_id')['product_id'].size()\n",
    "us['gt_1'] = orders_products[orders_products['order_number'] > 1].groupby('user_id')['product_id'].size()\n",
    "us.drop(['eq_1', 'gt_1'], axis = 1, inplace = True)\n",
    "us['user_distinct_products'] = orders_products.groupby(['user_id'])['product_id'].nunique()\n",
    "\n",
    "# the average basket size of the user\n",
    "users = users.reset_index().merge(us.reset_index())\n",
    "users['user_average_basket'] = users['user_total_products'] / users['user_orders']\n",
    "\n",
    "us = orders[orders['eval_set'] != 0]\n",
    "us = us[['user_id', 'order_id', 'eval_set', 'days_since_prior_order']]\n",
    "users = users.merge(us)\n",
    "\n",
    "del us\n",
    "users.head()"
   ]
  },
  {
   "cell_type": "code",
   "execution_count": 15,
   "metadata": {
    "scrolled": true
   },
   "outputs": [
    {
     "data": {
      "text/plain": [
       "<matplotlib.axes._subplots.AxesSubplot at 0x1c403041978>"
      ]
     },
     "execution_count": 15,
     "metadata": {},
     "output_type": "execute_result"
    },
    {
     "data": {
      "image/png": "[encoded data removed]",
      "text/plain": [
       "<matplotlib.figure.Figure at 0x1c4031ab048>"
      ]
     },
     "metadata": {},
     "output_type": "display_data"
    }
   ],
   "source": [
    "sns.distplot(users[users['user_distinct_products'] < 300]['user_distinct_products'])"
   ]
  },
  {
   "cell_type": "code",
   "execution_count": 16,
   "metadata": {},
   "outputs": [
    {
     "data": {
      "text/plain": [
       "<matplotlib.axes._subplots.AxesSubplot at 0x1c403169358>"
      ]
     },
     "execution_count": 16,
     "metadata": {},
     "output_type": "execute_result"
    },
    {
     "data": {
      "image/png": "[encoded data removed]",
      "text/plain": [
       "<matplotlib.figure.Figure at 0x1c4032a7908>"
      ]
     },
     "metadata": {},
     "output_type": "display_data"
    }
   ],
   "source": [
    "sns.distplot(users['user_mean_days_since_prior'])"
   ]
  },
  {
   "cell_type": "markdown",
   "metadata": {},
   "source": [
    "## Product Features\n",
    "prod_orders: How many times this product has been ordered  \n",
    "prod_reorder_probability: Probabability that a pruduct will be reordered after ifrst purchase  \n",
    "prod_reorder_ratio"
   ]
  },
  {
   "cell_type": "code",
   "execution_count": 4,
   "metadata": {},
   "outputs": [
    {
     "data": {
      "text/html": [
       "<div>\n",
       "<style>\n",
       "    .dataframe thead tr:only-child th {\n",
       "        text-align: right;\n",
       "    }\n",
       "\n",
       "    .dataframe thead th {\n",
       "        text-align: left;\n",
       "    }\n",
       "\n",
       "    .dataframe tbody tr th {\n",
       "        vertical-align: top;\n",
       "    }\n",
       "</style>\n",
       "<table border=\"1\" class=\"dataframe\">\n",
       "  <thead>\n",
       "    <tr style=\"text-align: right;\">\n",
       "      <th></th>\n",
       "      <th>product_id</th>\n",
       "      <th>prod_orders</th>\n",
       "      <th>prod_reorder_probability</th>\n",
       "      <th>prod_reorder_ratio</th>\n",
       "    </tr>\n",
       "  </thead>\n",
       "  <tbody>\n",
       "    <tr>\n",
       "      <th>0</th>\n",
       "      <td>1</td>\n",
       "      <td>1852</td>\n",
       "      <td>0.385475</td>\n",
       "      <td>0.613391</td>\n",
       "    </tr>\n",
       "    <tr>\n",
       "      <th>1</th>\n",
       "      <td>2</td>\n",
       "      <td>90</td>\n",
       "      <td>0.102564</td>\n",
       "      <td>0.133333</td>\n",
       "    </tr>\n",
       "    <tr>\n",
       "      <th>2</th>\n",
       "      <td>3</td>\n",
       "      <td>277</td>\n",
       "      <td>0.486486</td>\n",
       "      <td>0.732852</td>\n",
       "    </tr>\n",
       "    <tr>\n",
       "      <th>3</th>\n",
       "      <td>4</td>\n",
       "      <td>329</td>\n",
       "      <td>0.351648</td>\n",
       "      <td>0.446809</td>\n",
       "    </tr>\n",
       "    <tr>\n",
       "      <th>4</th>\n",
       "      <td>5</td>\n",
       "      <td>15</td>\n",
       "      <td>0.666667</td>\n",
       "      <td>0.600000</td>\n",
       "    </tr>\n",
       "  </tbody>\n",
       "</table>\n",
       "</div>"
      ],
      "text/plain": [
       "   product_id  prod_orders  prod_reorder_probability  prod_reorder_ratio\n",
       "0           1         1852                  0.385475            0.613391\n",
       "1           2           90                  0.102564            0.133333\n",
       "2           3          277                  0.486486            0.732852\n",
       "3           4          329                  0.351648            0.446809\n",
       "4           5           15                  0.666667            0.600000"
      ]
     },
     "execution_count": 4,
     "metadata": {},
     "output_type": "execute_result"
    }
   ],
   "source": [
    "# sort orders and products to get the rank or the reorder frequency\n",
    "prdss = orders_products.sort_values(['user_id', 'order_number', 'product_id'], ascending=True)\n",
    "prdss['product_time'] = prdss.groupby(['user_id', 'product_id']).cumcount()+1\n",
    "\n",
    "# getting products ordered first and second times to calculate probability later\n",
    "sub1 = prdss[prdss['product_time'] == 1].groupby('product_id').size().to_frame('prod_first_orders')\n",
    "sub2 = prdss[prdss['product_time'] == 2].groupby('product_id').size().to_frame('prod_second_orders')\n",
    "sub1['prod_orders'] = prdss.groupby('product_id')['product_id'].size()\n",
    "sub1['prod_reorders'] = prdss.groupby('product_id')['reordered'].sum()\n",
    "sub2 = sub2.reset_index().merge(sub1.reset_index())\n",
    "sub2['prod_reorder_probability'] = sub2['prod_second_orders']/sub2['prod_first_orders']\n",
    "sub2['prod_reorder_ratio'] = sub2['prod_reorders']/sub2['prod_orders']\n",
    "prd = sub2[['product_id', 'prod_orders','prod_reorder_probability', 'prod_reorder_ratio']]\n",
    "del sub1, sub2, prdss\n",
    "prd.head()"
   ]
  },
  {
   "cell_type": "code",
   "execution_count": 9,
   "metadata": {},
   "outputs": [
    {
     "data": {
      "text/plain": [
       "<matplotlib.axes._subplots.AxesSubplot at 0x1c40267d630>"
      ]
     },
     "execution_count": 9,
     "metadata": {},
     "output_type": "execute_result"
    },
    {
     "data": {
      "image/png": "[encoded data removed]",
      "text/plain": [
       "<matplotlib.figure.Figure at 0x1c402a9e6a0>"
      ]
     },
     "metadata": {},
     "output_type": "display_data"
    }
   ],
   "source": [
    "sns.distplot(prd['prod_reorder_probability'])"
   ]
  },
  {
   "cell_type": "code",
   "execution_count": 10,
   "metadata": {},
   "outputs": [
    {
     "data": {
      "text/plain": [
       "<matplotlib.axes._subplots.AxesSubplot at 0x1c4027969e8>"
      ]
     },
     "execution_count": 10,
     "metadata": {},
     "output_type": "execute_result"
    },
    {
     "data": {
      "image/png": "[encoded data removed]",
      "text/plain": [
       "<matplotlib.figure.Figure at 0x1c402a542e8>"
      ]
     },
     "metadata": {},
     "output_type": "display_data"
    }
   ],
   "source": [
    "sns.distplot(prd['prod_reorder_ratio'])"
   ]
  },
  {
   "cell_type": "markdown",
   "metadata": {},
   "source": [
    "## User/Product combination Features\n",
    "up_orders: How many times this user orderd this product    \n",
    "up_first_order/up_last_order: first/last time a user ordered this item  \n",
    "up_average_cart_position: the average add to cart order of the item from this user's orders  \n",
    "up_order_rate: the percent of user buying this in all his/her orders\n",
    "up_orders_since_last_order: how many orders bewteen the last buy of this product"
   ]
  },
  {
   "cell_type": "code",
   "execution_count": 5,
   "metadata": {},
   "outputs": [
    {
     "data": {
      "text/html": [
       "<div>\n",
       "<style>\n",
       "    .dataframe thead tr:only-child th {\n",
       "        text-align: right;\n",
       "    }\n",
       "\n",
       "    .dataframe thead th {\n",
       "        text-align: left;\n",
       "    }\n",
       "\n",
       "    .dataframe tbody tr th {\n",
       "        vertical-align: top;\n",
       "    }\n",
       "</style>\n",
       "<table border=\"1\" class=\"dataframe\">\n",
       "  <thead>\n",
       "    <tr style=\"text-align: right;\">\n",
       "      <th></th>\n",
       "      <th>user_id</th>\n",
       "      <th>product_id</th>\n",
       "      <th>up_orders</th>\n",
       "      <th>up_first_order</th>\n",
       "      <th>up_last_order</th>\n",
       "      <th>up_average_cart_position</th>\n",
       "      <th>prod_orders</th>\n",
       "      <th>prod_reorder_probability</th>\n",
       "      <th>prod_reorder_ratio</th>\n",
       "      <th>user_orders</th>\n",
       "      <th>...</th>\n",
       "      <th>user_distinct_products</th>\n",
       "      <th>user_average_basket</th>\n",
       "      <th>order_id</th>\n",
       "      <th>eval_set</th>\n",
       "      <th>days_since_prior_order</th>\n",
       "      <th>up_order_rate</th>\n",
       "      <th>up_orders_since_last_order</th>\n",
       "      <th>reordered</th>\n",
       "      <th>aisle_id</th>\n",
       "      <th>department_id</th>\n",
       "    </tr>\n",
       "  </thead>\n",
       "  <tbody>\n",
       "    <tr>\n",
       "      <th>0</th>\n",
       "      <td>1</td>\n",
       "      <td>196</td>\n",
       "      <td>10</td>\n",
       "      <td>1</td>\n",
       "      <td>10</td>\n",
       "      <td>1.400000</td>\n",
       "      <td>35791</td>\n",
       "      <td>0.5825</td>\n",
       "      <td>0.77648</td>\n",
       "      <td>10</td>\n",
       "      <td>...</td>\n",
       "      <td>18</td>\n",
       "      <td>5.900000</td>\n",
       "      <td>1187899</td>\n",
       "      <td>1</td>\n",
       "      <td>14</td>\n",
       "      <td>1.000000</td>\n",
       "      <td>0</td>\n",
       "      <td>1.0</td>\n",
       "      <td>77</td>\n",
       "      <td>7</td>\n",
       "    </tr>\n",
       "    <tr>\n",
       "      <th>1</th>\n",
       "      <td>15</td>\n",
       "      <td>196</td>\n",
       "      <td>5</td>\n",
       "      <td>15</td>\n",
       "      <td>22</td>\n",
       "      <td>2.200000</td>\n",
       "      <td>35791</td>\n",
       "      <td>0.5825</td>\n",
       "      <td>0.77648</td>\n",
       "      <td>22</td>\n",
       "      <td>...</td>\n",
       "      <td>13</td>\n",
       "      <td>3.272727</td>\n",
       "      <td>2161313</td>\n",
       "      <td>2</td>\n",
       "      <td>7</td>\n",
       "      <td>0.227273</td>\n",
       "      <td>0</td>\n",
       "      <td>NaN</td>\n",
       "      <td>77</td>\n",
       "      <td>7</td>\n",
       "    </tr>\n",
       "    <tr>\n",
       "      <th>2</th>\n",
       "      <td>19</td>\n",
       "      <td>196</td>\n",
       "      <td>3</td>\n",
       "      <td>2</td>\n",
       "      <td>7</td>\n",
       "      <td>6.333333</td>\n",
       "      <td>35791</td>\n",
       "      <td>0.5825</td>\n",
       "      <td>0.77648</td>\n",
       "      <td>9</td>\n",
       "      <td>...</td>\n",
       "      <td>133</td>\n",
       "      <td>22.666667</td>\n",
       "      <td>1735923</td>\n",
       "      <td>2</td>\n",
       "      <td>8</td>\n",
       "      <td>0.333333</td>\n",
       "      <td>2</td>\n",
       "      <td>NaN</td>\n",
       "      <td>77</td>\n",
       "      <td>7</td>\n",
       "    </tr>\n",
       "    <tr>\n",
       "      <th>3</th>\n",
       "      <td>21</td>\n",
       "      <td>196</td>\n",
       "      <td>1</td>\n",
       "      <td>10</td>\n",
       "      <td>10</td>\n",
       "      <td>2.000000</td>\n",
       "      <td>35791</td>\n",
       "      <td>0.5825</td>\n",
       "      <td>0.77648</td>\n",
       "      <td>33</td>\n",
       "      <td>...</td>\n",
       "      <td>102</td>\n",
       "      <td>6.212121</td>\n",
       "      <td>1854765</td>\n",
       "      <td>1</td>\n",
       "      <td>28</td>\n",
       "      <td>0.030303</td>\n",
       "      <td>23</td>\n",
       "      <td>NaN</td>\n",
       "      <td>77</td>\n",
       "      <td>7</td>\n",
       "    </tr>\n",
       "    <tr>\n",
       "      <th>4</th>\n",
       "      <td>31</td>\n",
       "      <td>196</td>\n",
       "      <td>2</td>\n",
       "      <td>10</td>\n",
       "      <td>17</td>\n",
       "      <td>15.500000</td>\n",
       "      <td>35791</td>\n",
       "      <td>0.5825</td>\n",
       "      <td>0.77648</td>\n",
       "      <td>20</td>\n",
       "      <td>...</td>\n",
       "      <td>190</td>\n",
       "      <td>14.950000</td>\n",
       "      <td>280888</td>\n",
       "      <td>2</td>\n",
       "      <td>18</td>\n",
       "      <td>0.100000</td>\n",
       "      <td>3</td>\n",
       "      <td>NaN</td>\n",
       "      <td>77</td>\n",
       "      <td>7</td>\n",
       "    </tr>\n",
       "  </tbody>\n",
       "</table>\n",
       "<p>5 rows × 23 columns</p>\n",
       "</div>"
      ],
      "text/plain": [
       "   user_id  product_id  up_orders  up_first_order  up_last_order  \\\n",
       "0        1         196         10               1             10   \n",
       "1       15         196          5              15             22   \n",
       "2       19         196          3               2              7   \n",
       "3       21         196          1              10             10   \n",
       "4       31         196          2              10             17   \n",
       "\n",
       "   up_average_cart_position  prod_orders  prod_reorder_probability  \\\n",
       "0                  1.400000        35791                    0.5825   \n",
       "1                  2.200000        35791                    0.5825   \n",
       "2                  6.333333        35791                    0.5825   \n",
       "3                  2.000000        35791                    0.5825   \n",
       "4                 15.500000        35791                    0.5825   \n",
       "\n",
       "   prod_reorder_ratio  user_orders      ...        user_distinct_products  \\\n",
       "0             0.77648           10      ...                            18   \n",
       "1             0.77648           22      ...                            13   \n",
       "2             0.77648            9      ...                           133   \n",
       "3             0.77648           33      ...                           102   \n",
       "4             0.77648           20      ...                           190   \n",
       "\n",
       "   user_average_basket  order_id  eval_set  days_since_prior_order  \\\n",
       "0             5.900000   1187899         1                      14   \n",
       "1             3.272727   2161313         2                       7   \n",
       "2            22.666667   1735923         2                       8   \n",
       "3             6.212121   1854765         1                      28   \n",
       "4            14.950000    280888         2                      18   \n",
       "\n",
       "   up_order_rate  up_orders_since_last_order  reordered  aisle_id  \\\n",
       "0       1.000000                           0        1.0        77   \n",
       "1       0.227273                           0        NaN        77   \n",
       "2       0.333333                           2        NaN        77   \n",
       "3       0.030303                          23        NaN        77   \n",
       "4       0.100000                           3        NaN        77   \n",
       "\n",
       "   department_id  \n",
       "0              7  \n",
       "1              7  \n",
       "2              7  \n",
       "3              7  \n",
       "4              7  \n",
       "\n",
       "[5 rows x 23 columns]"
      ]
     },
     "execution_count": 5,
     "metadata": {},
     "output_type": "execute_result"
    }
   ],
   "source": [
    "# merging orders and products and grouping by user and product and calculating features for the user/product combination\n",
    "data = orders_products.groupby(['user_id', 'product_id']).size().to_frame('up_orders')\n",
    "data['up_first_order'] = orders_products.groupby(['user_id', 'product_id'])['order_number'].min()\n",
    "data['up_last_order'] = orders_products.groupby(['user_id', 'product_id'])['order_number'].max()\n",
    "data['up_average_cart_position'] = orders_products.groupby(['user_id', 'product_id'])['add_to_cart_order'].mean()\n",
    "data = data.reset_index()\n",
    "\n",
    "#merging previous data with users\n",
    "data = data.merge(prd, on = 'product_id')\n",
    "data = data.merge(users, on = 'user_id')\n",
    "\n",
    "#user/product combination features about the particular order\n",
    "data['up_order_rate'] = data['up_orders'] / data['user_orders']\n",
    "data['up_orders_since_last_order'] = data['user_orders'] - data['up_last_order']\n",
    "data = data.merge(train_orders[['user_id', 'product_id', 'reordered']],\n",
    "                  how = 'left', on = ['user_id', 'product_id'])\n",
    "data = data.merge(products, on = 'product_id')\n"
   ]
  },
  {
   "cell_type": "code",
   "execution_count": 6,
   "metadata": {},
   "outputs": [
    {
     "data": {
      "text/html": [
       "<div>\n",
       "<style>\n",
       "    .dataframe thead tr:only-child th {\n",
       "        text-align: right;\n",
       "    }\n",
       "\n",
       "    .dataframe thead th {\n",
       "        text-align: left;\n",
       "    }\n",
       "\n",
       "    .dataframe tbody tr th {\n",
       "        vertical-align: top;\n",
       "    }\n",
       "</style>\n",
       "<table border=\"1\" class=\"dataframe\">\n",
       "  <thead>\n",
       "    <tr style=\"text-align: right;\">\n",
       "      <th></th>\n",
       "      <th>user_id</th>\n",
       "      <th>product_id</th>\n",
       "      <th>up_orders</th>\n",
       "      <th>up_first_order</th>\n",
       "      <th>up_last_order</th>\n",
       "      <th>up_average_cart_position</th>\n",
       "      <th>prod_orders</th>\n",
       "      <th>prod_reorder_probability</th>\n",
       "      <th>prod_reorder_ratio</th>\n",
       "      <th>user_orders</th>\n",
       "      <th>...</th>\n",
       "      <th>order_id</th>\n",
       "      <th>eval_set</th>\n",
       "      <th>days_since_prior_order</th>\n",
       "      <th>up_order_rate</th>\n",
       "      <th>up_orders_since_last_order</th>\n",
       "      <th>reordered</th>\n",
       "      <th>aisle_id</th>\n",
       "      <th>department_id</th>\n",
       "      <th>order_dow</th>\n",
       "      <th>order_hour_of_day</th>\n",
       "    </tr>\n",
       "  </thead>\n",
       "  <tbody>\n",
       "    <tr>\n",
       "      <th>0</th>\n",
       "      <td>1</td>\n",
       "      <td>196</td>\n",
       "      <td>10</td>\n",
       "      <td>1</td>\n",
       "      <td>10</td>\n",
       "      <td>1.4</td>\n",
       "      <td>35791</td>\n",
       "      <td>0.5825</td>\n",
       "      <td>0.77648</td>\n",
       "      <td>10</td>\n",
       "      <td>...</td>\n",
       "      <td>1187899</td>\n",
       "      <td>1</td>\n",
       "      <td>14</td>\n",
       "      <td>1.0</td>\n",
       "      <td>0</td>\n",
       "      <td>1.0</td>\n",
       "      <td>77</td>\n",
       "      <td>7</td>\n",
       "      <td>2</td>\n",
       "      <td>8</td>\n",
       "    </tr>\n",
       "    <tr>\n",
       "      <th>1</th>\n",
       "      <td>1</td>\n",
       "      <td>196</td>\n",
       "      <td>10</td>\n",
       "      <td>1</td>\n",
       "      <td>10</td>\n",
       "      <td>1.4</td>\n",
       "      <td>35791</td>\n",
       "      <td>0.5825</td>\n",
       "      <td>0.77648</td>\n",
       "      <td>10</td>\n",
       "      <td>...</td>\n",
       "      <td>1187899</td>\n",
       "      <td>1</td>\n",
       "      <td>14</td>\n",
       "      <td>1.0</td>\n",
       "      <td>0</td>\n",
       "      <td>1.0</td>\n",
       "      <td>77</td>\n",
       "      <td>7</td>\n",
       "      <td>3</td>\n",
       "      <td>7</td>\n",
       "    </tr>\n",
       "    <tr>\n",
       "      <th>2</th>\n",
       "      <td>1</td>\n",
       "      <td>196</td>\n",
       "      <td>10</td>\n",
       "      <td>1</td>\n",
       "      <td>10</td>\n",
       "      <td>1.4</td>\n",
       "      <td>35791</td>\n",
       "      <td>0.5825</td>\n",
       "      <td>0.77648</td>\n",
       "      <td>10</td>\n",
       "      <td>...</td>\n",
       "      <td>1187899</td>\n",
       "      <td>1</td>\n",
       "      <td>14</td>\n",
       "      <td>1.0</td>\n",
       "      <td>0</td>\n",
       "      <td>1.0</td>\n",
       "      <td>77</td>\n",
       "      <td>7</td>\n",
       "      <td>3</td>\n",
       "      <td>12</td>\n",
       "    </tr>\n",
       "    <tr>\n",
       "      <th>3</th>\n",
       "      <td>1</td>\n",
       "      <td>196</td>\n",
       "      <td>10</td>\n",
       "      <td>1</td>\n",
       "      <td>10</td>\n",
       "      <td>1.4</td>\n",
       "      <td>35791</td>\n",
       "      <td>0.5825</td>\n",
       "      <td>0.77648</td>\n",
       "      <td>10</td>\n",
       "      <td>...</td>\n",
       "      <td>1187899</td>\n",
       "      <td>1</td>\n",
       "      <td>14</td>\n",
       "      <td>1.0</td>\n",
       "      <td>0</td>\n",
       "      <td>1.0</td>\n",
       "      <td>77</td>\n",
       "      <td>7</td>\n",
       "      <td>4</td>\n",
       "      <td>7</td>\n",
       "    </tr>\n",
       "    <tr>\n",
       "      <th>4</th>\n",
       "      <td>1</td>\n",
       "      <td>196</td>\n",
       "      <td>10</td>\n",
       "      <td>1</td>\n",
       "      <td>10</td>\n",
       "      <td>1.4</td>\n",
       "      <td>35791</td>\n",
       "      <td>0.5825</td>\n",
       "      <td>0.77648</td>\n",
       "      <td>10</td>\n",
       "      <td>...</td>\n",
       "      <td>1187899</td>\n",
       "      <td>1</td>\n",
       "      <td>14</td>\n",
       "      <td>1.0</td>\n",
       "      <td>0</td>\n",
       "      <td>1.0</td>\n",
       "      <td>77</td>\n",
       "      <td>7</td>\n",
       "      <td>4</td>\n",
       "      <td>15</td>\n",
       "    </tr>\n",
       "  </tbody>\n",
       "</table>\n",
       "<p>5 rows × 25 columns</p>\n",
       "</div>"
      ],
      "text/plain": [
       "   user_id  product_id  up_orders  up_first_order  up_last_order  \\\n",
       "0        1         196         10               1             10   \n",
       "1        1         196         10               1             10   \n",
       "2        1         196         10               1             10   \n",
       "3        1         196         10               1             10   \n",
       "4        1         196         10               1             10   \n",
       "\n",
       "   up_average_cart_position  prod_orders  prod_reorder_probability  \\\n",
       "0                       1.4        35791                    0.5825   \n",
       "1                       1.4        35791                    0.5825   \n",
       "2                       1.4        35791                    0.5825   \n",
       "3                       1.4        35791                    0.5825   \n",
       "4                       1.4        35791                    0.5825   \n",
       "\n",
       "   prod_reorder_ratio  user_orders        ...          order_id  eval_set  \\\n",
       "0             0.77648           10        ...           1187899         1   \n",
       "1             0.77648           10        ...           1187899         1   \n",
       "2             0.77648           10        ...           1187899         1   \n",
       "3             0.77648           10        ...           1187899         1   \n",
       "4             0.77648           10        ...           1187899         1   \n",
       "\n",
       "   days_since_prior_order  up_order_rate  up_orders_since_last_order  \\\n",
       "0                      14            1.0                           0   \n",
       "1                      14            1.0                           0   \n",
       "2                      14            1.0                           0   \n",
       "3                      14            1.0                           0   \n",
       "4                      14            1.0                           0   \n",
       "\n",
       "   reordered  aisle_id  department_id  order_dow  order_hour_of_day  \n",
       "0        1.0        77              7          2                  8  \n",
       "1        1.0        77              7          3                  7  \n",
       "2        1.0        77              7          3                 12  \n",
       "3        1.0        77              7          4                  7  \n",
       "4        1.0        77              7          4                 15  \n",
       "\n",
       "[5 rows x 25 columns]"
      ]
     },
     "execution_count": 6,
     "metadata": {},
     "output_type": "execute_result"
    }
   ],
   "source": [
    "df = data.merge(orders_products[['user_id', 'product_id',\"order_dow\", \"order_hour_of_day\"]],\n",
    "                  how = 'left', on = ['user_id', 'product_id'])\n",
    "df.head()"
   ]
  },
  {
   "cell_type": "code",
   "execution_count": 10,
   "metadata": {},
   "outputs": [
    {
     "data": {
      "text/plain": [
       "<matplotlib.axes._subplots.AxesSubplot at 0x24e06291d68>"
      ]
     },
     "execution_count": 10,
     "metadata": {},
     "output_type": "execute_result"
    },
    {
     "data": {
      "image/png": "[encoded data removed]",
      "text/plain": [
       "<matplotlib.figure.Figure at 0x24e060ae8d0>"
      ]
     },
     "metadata": {},
     "output_type": "display_data"
    }
   ],
   "source": [
    "sns.countplot(df['order_hour_of_day'])"
   ]
  },
  {
   "cell_type": "code",
   "execution_count": 11,
   "metadata": {},
   "outputs": [
    {
     "data": {
      "text/plain": [
       "<matplotlib.axes._subplots.AxesSubplot at 0x24e1781c748>"
      ]
     },
     "execution_count": 11,
     "metadata": {},
     "output_type": "execute_result"
    },
    {
     "data": {
      "image/png": "[encoded data removed]",
      "text/plain": [
       "<matplotlib.figure.Figure at 0x24e06125fd0>"
      ]
     },
     "metadata": {},
     "output_type": "display_data"
    }
   ],
   "source": [
    "sns.countplot(df['order_dow'])"
   ]
  },
  {
   "cell_type": "code",
   "execution_count": null,
   "metadata": {
    "collapsed": true
   },
   "outputs": [],
   "source": []
  }
 ],
 "metadata": {
  "kernelspec": {
   "display_name": "Python 3",
   "language": "python",
   "name": "python3"
  },
  "language_info": {
   "codemirror_mode": {
    "name": "ipython",
    "version": 3
   },
   "file_extension": ".py",
   "mimetype": "text/x-python",
   "name": "python",
   "nbconvert_exporter": "python",
   "pygments_lexer": "ipython3",
   "version": "3.6.3"
  }
 },
 "nbformat": 4,
 "nbformat_minor": 2
}
